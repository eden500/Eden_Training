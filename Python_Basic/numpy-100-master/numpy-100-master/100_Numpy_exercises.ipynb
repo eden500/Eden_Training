{
 "cells": [
  {
   "cell_type": "markdown",
   "id": "6293cc50",
   "metadata": {},
   "source": [
    "# 100 numpy exercises\n",
    "\n",
    "This is a collection of exercises that have been collected in the numpy mailing list, on stack overflow\n",
    "and in the numpy documentation. The goal of this collection is to offer a quick reference for both old\n",
    "and new users but also to provide a set of exercises for those who teach.\n",
    "\n",
    "\n",
    "If you find an error or think you've a better way to solve some of them, feel\n",
    "free to open an issue at <https://github.com/rougier/numpy-100>."
   ]
  },
  {
   "cell_type": "markdown",
   "id": "a167c052",
   "metadata": {},
   "source": [
    "File automatically generated. See the documentation to update questions/answers/hints programmatically."
   ]
  },
  {
   "cell_type": "markdown",
   "id": "57fc0ee5",
   "metadata": {},
   "source": [
    "Run the `initialize.py` module, then for each question you can query the\n",
    "answer or an hint with `hint(n)` or `answer(n)` for `n` question number."
   ]
  },
  {
   "cell_type": "code",
   "execution_count": 3,
   "outputs": [],
   "source": [
    "%run initialise.py"
   ],
   "metadata": {
    "collapsed": false,
    "ExecuteTime": {
     "end_time": "2024-06-30T10:10:58.228668200Z",
     "start_time": "2024-06-30T10:10:58.135144600Z"
    }
   },
   "id": "bbea97f97df312a9"
  },
  {
   "cell_type": "code",
   "execution_count": 2,
   "outputs": [
    {
     "name": "stdout",
     "output_type": "stream",
     "text": [
      "Collecting mdutils\n",
      "  Downloading mdutils-1.6.0.tar.gz (22 kB)\n",
      "  Installing build dependencies: started\n",
      "  Installing build dependencies: finished with status 'done'\n",
      "  Getting requirements to build wheel: started\n",
      "  Getting requirements to build wheel: finished with status 'done'\n",
      "  Preparing metadata (pyproject.toml): started\n",
      "  Preparing metadata (pyproject.toml): finished with status 'done'\n",
      "Building wheels for collected packages: mdutils\n",
      "  Building wheel for mdutils (pyproject.toml): started\n",
      "  Building wheel for mdutils (pyproject.toml): finished with status 'done'\n",
      "  Created wheel for mdutils: filename=mdutils-1.6.0-py3-none-any.whl size=20744 sha256=98c2f4f7a500f730137e432c34b0cf7cab40270e770326389db7c7d055b4656e\n",
      "  Stored in directory: c:\\users\\edeng\\appdata\\local\\pip\\cache\\wheels\\2c\\18\\dc\\d1968536d8f0c46c7180448ccc75f641fa2c3dea7bb02ea868\n",
      "Successfully built mdutils\n",
      "Installing collected packages: mdutils\n",
      "Successfully installed mdutils-1.6.0\n"
     ]
    }
   ],
   "source": [
    "!pip install mdutils"
   ],
   "metadata": {
    "collapsed": false,
    "ExecuteTime": {
     "end_time": "2024-06-30T10:09:39.479022400Z",
     "start_time": "2024-06-30T10:09:04.760091Z"
    }
   },
   "id": "b17d7c510e24dbe1"
  },
  {
   "cell_type": "markdown",
   "id": "3c1222ff",
   "metadata": {},
   "source": [
    "#### 1. Import the numpy package under the name `np` (★☆☆)"
   ]
  },
  {
   "cell_type": "code",
   "execution_count": 4,
   "id": "f52e6a0b",
   "metadata": {
    "ExecuteTime": {
     "end_time": "2024-06-30T10:11:07.628598300Z",
     "start_time": "2024-06-30T10:11:07.572303100Z"
    }
   },
   "outputs": [],
   "source": [
    "import numpy as np"
   ]
  },
  {
   "cell_type": "markdown",
   "id": "9d9f4753",
   "metadata": {},
   "source": [
    "#### 2. Print the numpy version and the configuration (★☆☆)"
   ]
  },
  {
   "cell_type": "code",
   "execution_count": 5,
   "id": "b7fa5fa1",
   "metadata": {
    "ExecuteTime": {
     "end_time": "2024-06-30T10:11:48.722331900Z",
     "start_time": "2024-06-30T10:11:48.620721100Z"
    }
   },
   "outputs": [
    {
     "name": "stdout",
     "output_type": "stream",
     "text": [
      "1.26.4\n",
      "Build Dependencies:\n",
      "  blas:\n",
      "    detection method: pkgconfig\n",
      "    found: true\n",
      "    include directory: D:/Programs/miniconda3/Library/include\n",
      "    lib directory: D:/Programs/miniconda3/Library/lib\n",
      "    name: mkl-sdl\n",
      "    openblas configuration: unknown\n",
      "    pc file directory: C:\\b\\abs_c1ywpu18ar\\croot\\numpy_and_numpy_base_1708638681471\\_h_env\\Library\\lib\\pkgconfig\n",
      "    version: '2023.1'\n",
      "  lapack:\n",
      "    detection method: internal\n",
      "    found: true\n",
      "    include directory: unknown\n",
      "    lib directory: unknown\n",
      "    name: dep1868282989520\n",
      "    openblas configuration: unknown\n",
      "    pc file directory: unknown\n",
      "    version: 1.26.4\n",
      "Compilers:\n",
      "  c:\n",
      "    commands: cl.exe\n",
      "    linker: link\n",
      "    name: msvc\n",
      "    version: 19.29.30154\n",
      "  c++:\n",
      "    commands: cl.exe\n",
      "    linker: link\n",
      "    name: msvc\n",
      "    version: 19.29.30154\n",
      "  cython:\n",
      "    commands: cython\n",
      "    linker: cython\n",
      "    name: cython\n",
      "    version: 3.0.8\n",
      "Machine Information:\n",
      "  build:\n",
      "    cpu: x86_64\n",
      "    endian: little\n",
      "    family: x86_64\n",
      "    system: windows\n",
      "  host:\n",
      "    cpu: x86_64\n",
      "    endian: little\n",
      "    family: x86_64\n",
      "    system: windows\n",
      "Python Information:\n",
      "  path: C:\\b\\abs_c1ywpu18ar\\croot\\numpy_and_numpy_base_1708638681471\\_h_env\\python.exe\n",
      "  version: '3.11'\n",
      "SIMD Extensions:\n",
      "  baseline:\n",
      "  - SSE\n",
      "  - SSE2\n",
      "  - SSE3\n",
      "  found:\n",
      "  - SSSE3\n",
      "  - SSE41\n",
      "  - POPCNT\n",
      "  - SSE42\n",
      "  - AVX\n",
      "  - F16C\n",
      "  - FMA3\n",
      "  - AVX2\n",
      "  not found:\n",
      "  - AVX512F\n",
      "  - AVX512CD\n",
      "  - AVX512_SKX\n",
      "  - AVX512_CLX\n",
      "  - AVX512_CNL\n",
      "  - AVX512_ICL\n",
      "\n",
      "None\n"
     ]
    }
   ],
   "source": [
    "print(np.__version__)\n",
    "print(np.show_config())"
   ]
  },
  {
   "cell_type": "markdown",
   "id": "3e4c23c6",
   "metadata": {},
   "source": [
    "#### 3. Create a null vector of size 10 (★☆☆)"
   ]
  },
  {
   "cell_type": "code",
   "execution_count": 8,
   "id": "083c5c46",
   "metadata": {
    "ExecuteTime": {
     "end_time": "2024-06-30T10:12:33.136249100Z",
     "start_time": "2024-06-30T10:12:33.046788Z"
    }
   },
   "outputs": [
    {
     "data": {
      "text/plain": "array([0., 0., 0., 0., 0., 0., 0., 0., 0., 0.])"
     },
     "execution_count": 8,
     "metadata": {},
     "output_type": "execute_result"
    }
   ],
   "source": [
    "np.zeros(10)"
   ]
  },
  {
   "cell_type": "markdown",
   "id": "c38bbe82",
   "metadata": {},
   "source": [
    "#### 4. How to find the memory size of any array (★☆☆)"
   ]
  },
  {
   "cell_type": "code",
   "execution_count": 11,
   "id": "02b04021",
   "metadata": {
    "ExecuteTime": {
     "end_time": "2024-06-30T10:13:42.763834900Z",
     "start_time": "2024-06-30T10:13:42.647231900Z"
    }
   },
   "outputs": [
    {
     "name": "stdout",
     "output_type": "stream",
     "text": [
      "10\n",
      "8\n",
      "array size in bytes:\n",
      "80\n"
     ]
    }
   ],
   "source": [
    "x = np.zeros(10)\n",
    "print(x.size)\n",
    "print(x.itemsize)\n",
    "print(\"array size in bytes:\")\n",
    "print(x.size * x.itemsize)"
   ]
  },
  {
   "cell_type": "markdown",
   "id": "67f893d4",
   "metadata": {},
   "source": [
    "#### 5. How to get the documentation of the numpy add function from the command line? (★☆☆)"
   ]
  },
  {
   "cell_type": "code",
   "execution_count": 12,
   "id": "40e6b70d",
   "metadata": {
    "ExecuteTime": {
     "end_time": "2024-06-30T10:13:55.443241Z",
     "start_time": "2024-06-30T10:13:55.359437900Z"
    }
   },
   "outputs": [
    {
     "name": "stdout",
     "output_type": "stream",
     "text": [
      "add(x1, x2, /, out=None, *, where=True, casting='same_kind', order='K', dtype=None, subok=True[, signature, extobj])\n",
      "\n",
      "Add arguments element-wise.\n",
      "\n",
      "Parameters\n",
      "----------\n",
      "x1, x2 : array_like\n",
      "    The arrays to be added.\n",
      "    If ``x1.shape != x2.shape``, they must be broadcastable to a common\n",
      "    shape (which becomes the shape of the output).\n",
      "out : ndarray, None, or tuple of ndarray and None, optional\n",
      "    A location into which the result is stored. If provided, it must have\n",
      "    a shape that the inputs broadcast to. If not provided or None,\n",
      "    a freshly-allocated array is returned. A tuple (possible only as a\n",
      "    keyword argument) must have length equal to the number of outputs.\n",
      "where : array_like, optional\n",
      "    This condition is broadcast over the input. At locations where the\n",
      "    condition is True, the `out` array will be set to the ufunc result.\n",
      "    Elsewhere, the `out` array will retain its original value.\n",
      "    Note that if an uninitialized `out` array is created via the default\n",
      "    ``out=None``, locations within it where the condition is False will\n",
      "    remain uninitialized.\n",
      "**kwargs\n",
      "    For other keyword-only arguments, see the\n",
      "    :ref:`ufunc docs <ufuncs.kwargs>`.\n",
      "\n",
      "Returns\n",
      "-------\n",
      "add : ndarray or scalar\n",
      "    The sum of `x1` and `x2`, element-wise.\n",
      "    This is a scalar if both `x1` and `x2` are scalars.\n",
      "\n",
      "Notes\n",
      "-----\n",
      "Equivalent to `x1` + `x2` in terms of array broadcasting.\n",
      "\n",
      "Examples\n",
      "--------\n",
      ">>> np.add(1.0, 4.0)\n",
      "5.0\n",
      ">>> x1 = np.arange(9.0).reshape((3, 3))\n",
      ">>> x2 = np.arange(3.0)\n",
      ">>> np.add(x1, x2)\n",
      "array([[  0.,   2.,   4.],\n",
      "       [  3.,   5.,   7.],\n",
      "       [  6.,   8.,  10.]])\n",
      "\n",
      "The ``+`` operator can be used as a shorthand for ``np.add`` on ndarrays.\n",
      "\n",
      ">>> x1 = np.arange(9.0).reshape((3, 3))\n",
      ">>> x2 = np.arange(3.0)\n",
      ">>> x1 + x2\n",
      "array([[ 0.,  2.,  4.],\n",
      "       [ 3.,  5.,  7.],\n",
      "       [ 6.,  8., 10.]])\n",
      "None\n"
     ]
    }
   ],
   "source": [
    "print(np.info(np.add))"
   ]
  },
  {
   "cell_type": "markdown",
   "id": "e0c739c6",
   "metadata": {},
   "source": [
    "#### 6. Create a null vector of size 10 but the fifth value which is 1 (★☆☆)"
   ]
  },
  {
   "cell_type": "code",
   "execution_count": 14,
   "id": "bcceacf7",
   "metadata": {
    "ExecuteTime": {
     "end_time": "2024-06-30T10:15:26.324261900Z",
     "start_time": "2024-06-30T10:15:26.262876900Z"
    }
   },
   "outputs": [
    {
     "name": "stdout",
     "output_type": "stream",
     "text": [
      "[0. 0. 0. 0. 1. 0. 0. 0. 0. 0.]\n"
     ]
    }
   ],
   "source": [
    "x = np.zeros(10) \n",
    "x[4] = 1\n",
    "print(x)"
   ]
  },
  {
   "cell_type": "markdown",
   "id": "fbebedab",
   "metadata": {},
   "source": [
    "#### 7. Create a vector with values ranging from 10 to 49 (★☆☆)"
   ]
  },
  {
   "cell_type": "code",
   "execution_count": 15,
   "id": "3d117d54",
   "metadata": {
    "ExecuteTime": {
     "end_time": "2024-06-30T10:16:20.519363900Z",
     "start_time": "2024-06-30T10:16:20.420016600Z"
    }
   },
   "outputs": [
    {
     "data": {
      "text/plain": "array([10, 11, 12, 13, 14, 15, 16, 17, 18, 19, 20, 21, 22, 23, 24, 25, 26,\n       27, 28, 29, 30, 31, 32, 33, 34, 35, 36, 37, 38, 39, 40, 41, 42, 43,\n       44, 45, 46, 47, 48, 49])"
     },
     "execution_count": 15,
     "metadata": {},
     "output_type": "execute_result"
    }
   ],
   "source": [
    "np.arange(10, 50)"
   ]
  },
  {
   "cell_type": "markdown",
   "id": "ad0bff02",
   "metadata": {},
   "source": [
    "#### 8. Reverse a vector (first element becomes last) (★☆☆)"
   ]
  },
  {
   "cell_type": "code",
   "execution_count": 17,
   "id": "22d23470",
   "metadata": {
    "ExecuteTime": {
     "end_time": "2024-06-30T10:17:02.152542200Z",
     "start_time": "2024-06-30T10:17:02.054276300Z"
    }
   },
   "outputs": [
    {
     "name": "stdout",
     "output_type": "stream",
     "text": [
      "[0 1 2 3 4]\n",
      "[4 3 2 1 0]\n"
     ]
    }
   ],
   "source": [
    "x = np.arange(5)\n",
    "print(x)\n",
    "print(x[::-1])"
   ]
  },
  {
   "cell_type": "markdown",
   "id": "9f59d7e1",
   "metadata": {},
   "source": [
    "#### 9. Create a 3x3 matrix with values ranging from 0 to 8 (★☆☆)"
   ]
  },
  {
   "cell_type": "code",
   "execution_count": 18,
   "id": "7449e82d",
   "metadata": {
    "ExecuteTime": {
     "end_time": "2024-06-30T10:17:26.813252600Z",
     "start_time": "2024-06-30T10:17:26.677039200Z"
    }
   },
   "outputs": [
    {
     "data": {
      "text/plain": "array([[0, 1, 2],\n       [3, 4, 5],\n       [6, 7, 8]])"
     },
     "execution_count": 18,
     "metadata": {},
     "output_type": "execute_result"
    }
   ],
   "source": [
    "np.arange(9).reshape(3,3)"
   ]
  },
  {
   "cell_type": "markdown",
   "id": "f374c4cf",
   "metadata": {},
   "source": [
    "#### 10. Find indices of non-zero elements from [1,2,0,0,4,0] (★☆☆)"
   ]
  },
  {
   "cell_type": "code",
   "execution_count": 19,
   "id": "1a84bed8",
   "metadata": {
    "ExecuteTime": {
     "end_time": "2024-06-30T10:17:55.028707800Z",
     "start_time": "2024-06-30T10:17:54.881317500Z"
    }
   },
   "outputs": [
    {
     "data": {
      "text/plain": "(array([0, 1, 4], dtype=int64),)"
     },
     "execution_count": 19,
     "metadata": {},
     "output_type": "execute_result"
    }
   ],
   "source": [
    "x = [1, 2, 0, 0, 4, 0]\n",
    "np.nonzero(x)"
   ]
  },
  {
   "cell_type": "markdown",
   "id": "9c4707f5",
   "metadata": {},
   "source": [
    "#### 11. Create a 3x3 identity matrix (★☆☆)"
   ]
  },
  {
   "cell_type": "code",
   "execution_count": 20,
   "id": "29dc1fd3",
   "metadata": {
    "ExecuteTime": {
     "end_time": "2024-06-30T10:18:13.017873800Z",
     "start_time": "2024-06-30T10:18:12.887629800Z"
    }
   },
   "outputs": [
    {
     "data": {
      "text/plain": "array([[1., 0., 0.],\n       [0., 1., 0.],\n       [0., 0., 1.]])"
     },
     "execution_count": 20,
     "metadata": {},
     "output_type": "execute_result"
    }
   ],
   "source": [
    "np.eye(3)"
   ]
  },
  {
   "cell_type": "markdown",
   "id": "3bac294a",
   "metadata": {},
   "source": [
    "#### 12. Create a 3x3x3 array with random values (★☆☆)"
   ]
  },
  {
   "cell_type": "code",
   "execution_count": 21,
   "id": "eadfae67",
   "metadata": {
    "ExecuteTime": {
     "end_time": "2024-06-30T10:18:26.077074700Z",
     "start_time": "2024-06-30T10:18:25.980950900Z"
    }
   },
   "outputs": [
    {
     "data": {
      "text/plain": "array([[[0.13641752, 0.48223367, 0.89135498],\n        [0.82990052, 0.84545555, 0.14474749],\n        [0.70165816, 0.5558394 , 0.6782077 ]],\n\n       [[0.90816462, 0.98536949, 0.31159837],\n        [0.95965959, 0.82201318, 0.00496142],\n        [0.0119969 , 0.31532115, 0.751341  ]],\n\n       [[0.98855001, 0.90319933, 0.9036987 ],\n        [0.71615193, 0.7969533 , 0.36336042],\n        [0.63866762, 0.36909748, 0.534351  ]]])"
     },
     "execution_count": 21,
     "metadata": {},
     "output_type": "execute_result"
    }
   ],
   "source": [
    "np.random.random((3,3,3))"
   ]
  },
  {
   "cell_type": "markdown",
   "id": "466c2989",
   "metadata": {},
   "source": [
    "#### 13. Create a 10x10 array with random values and find the minimum and maximum values (★☆☆)"
   ]
  },
  {
   "cell_type": "code",
   "execution_count": 22,
   "id": "9a74dbfc",
   "metadata": {
    "ExecuteTime": {
     "end_time": "2024-06-30T10:19:18.068182600Z",
     "start_time": "2024-06-30T10:19:17.979227600Z"
    }
   },
   "outputs": [
    {
     "name": "stdout",
     "output_type": "stream",
     "text": [
      "[[0.86510043 0.65599119 0.83143812 0.82859412 0.98891364 0.44981169\n",
      "  0.12748466 0.55783637 0.06327973 0.98576844]\n",
      " [0.76874907 0.52408298 0.8907202  0.44930566 0.93272522 0.18961273\n",
      "  0.47413873 0.56936808 0.3058495  0.77283395]\n",
      " [0.22506106 0.33201901 0.39660735 0.36626819 0.51934833 0.14549078\n",
      "  0.67663526 0.34738754 0.72459968 0.24808688]\n",
      " [0.63388258 0.53334519 0.50060749 0.7120417  0.58747274 0.3422289\n",
      "  0.4426632  0.23959582 0.56906187 0.07630685]\n",
      " [0.02072145 0.26903389 0.26367735 0.42898311 0.71621827 0.99544376\n",
      "  0.31650611 0.77830045 0.43461906 0.34430812]\n",
      " [0.55694366 0.34920375 0.90226477 0.68818405 0.45052806 0.80040795\n",
      "  0.30430882 0.29505147 0.21125844 0.99559516]\n",
      " [0.15767808 0.47406656 0.91268448 0.69227526 0.87371121 0.0839933\n",
      "  0.1112384  0.84587421 0.3972571  0.61423682]\n",
      " [0.97669682 0.65379755 0.61702476 0.34683792 0.73168421 0.20328049\n",
      "  0.07499239 0.78612362 0.95963476 0.58700471]\n",
      " [0.59526976 0.12201614 0.85677119 0.93046961 0.55303741 0.25527936\n",
      "  0.54992756 0.92572662 0.18250787 0.06366219]\n",
      " [0.25798455 0.60458688 0.38815001 0.49944644 0.02937255 0.5346379\n",
      "  0.85772281 0.50578775 0.49556911 0.38659537]]\n",
      "0.020721449882879717 0.9955951581888114\n"
     ]
    }
   ],
   "source": [
    "x = np.random.random((10,10))\n",
    "print(x)\n",
    "print(x.min(), x.max())"
   ]
  },
  {
   "cell_type": "markdown",
   "id": "53a8edb2",
   "metadata": {},
   "source": [
    "#### 14. Create a random vector of size 30 and find the mean value (★☆☆)"
   ]
  },
  {
   "cell_type": "code",
   "execution_count": 23,
   "id": "6691530b",
   "metadata": {
    "ExecuteTime": {
     "end_time": "2024-06-30T10:19:33.013925500Z",
     "start_time": "2024-06-30T10:19:32.957636500Z"
    }
   },
   "outputs": [
    {
     "name": "stdout",
     "output_type": "stream",
     "text": [
      "[0.79236546 0.73313754 0.78044096 0.32112406 0.46425268 0.4972084\n",
      " 0.71349257 0.35804289 0.63105529 0.67794724 0.14868087 0.47735784\n",
      " 0.77963681 0.13370526 0.77576042 0.07872142 0.3830398  0.05267385\n",
      " 0.96416961 0.99175596 0.96898435 0.14872963 0.92171915 0.84435404\n",
      " 0.69439443 0.97526096 0.65587867 0.45262657 0.30513493 0.16413875]\n",
      "0.562859680568777\n"
     ]
    }
   ],
   "source": [
    "x = np.random.random(30)\n",
    "print(x)\n",
    "print(x.mean())"
   ]
  },
  {
   "cell_type": "markdown",
   "id": "cbaad31c",
   "metadata": {},
   "source": [
    "#### 15. Create a 2d array with 1 on the border and 0 inside (★☆☆)"
   ]
  },
  {
   "cell_type": "code",
   "execution_count": 26,
   "id": "ad8308e3",
   "metadata": {
    "ExecuteTime": {
     "end_time": "2024-06-30T10:20:20.656445300Z",
     "start_time": "2024-06-30T10:20:20.529041500Z"
    }
   },
   "outputs": [
    {
     "name": "stdout",
     "output_type": "stream",
     "text": [
      "[[1. 1. 1. 1. 1.]\n",
      " [1. 0. 0. 0. 1.]\n",
      " [1. 0. 0. 0. 1.]\n",
      " [1. 0. 0. 0. 1.]\n",
      " [1. 1. 1. 1. 1.]]\n"
     ]
    }
   ],
   "source": [
    "x = np.ones((5,5))\n",
    "x[1:-1,1:-1] = 0\n",
    "print(x)"
   ]
  },
  {
   "cell_type": "markdown",
   "id": "c5ecc267",
   "metadata": {},
   "source": [
    "#### 16. How to add a border (filled with 0's) around an existing array? (★☆☆)"
   ]
  },
  {
   "cell_type": "code",
   "execution_count": 28,
   "id": "9d5c78c4",
   "metadata": {
    "ExecuteTime": {
     "end_time": "2024-06-30T10:20:38.080548200Z",
     "start_time": "2024-06-30T10:20:37.972161400Z"
    }
   },
   "outputs": [
    {
     "name": "stdout",
     "output_type": "stream",
     "text": [
      "[[0. 0. 0. 0. 0. 0. 0.]\n",
      " [0. 1. 1. 1. 1. 1. 0.]\n",
      " [0. 1. 1. 1. 1. 1. 0.]\n",
      " [0. 1. 1. 1. 1. 1. 0.]\n",
      " [0. 1. 1. 1. 1. 1. 0.]\n",
      " [0. 1. 1. 1. 1. 1. 0.]\n",
      " [0. 0. 0. 0. 0. 0. 0.]]\n"
     ]
    }
   ],
   "source": [
    "x = np.ones((5,5))\n",
    "x = np.pad(x, pad_width=1, mode='constant', constant_values=0)\n",
    "print(x)"
   ]
  },
  {
   "cell_type": "markdown",
   "id": "ef909b72",
   "metadata": {},
   "source": [
    "#### 17. What is the result of the following expression? (★☆☆)\n",
    "```python\n",
    "0 * np.nan\n",
    "np.nan == np.nan\n",
    "np.inf > np.nan\n",
    "np.nan - np.nan\n",
    "np.nan in set([np.nan])\n",
    "0.3 == 3 * 0.1\n",
    "```"
   ]
  },
  {
   "cell_type": "code",
   "execution_count": 30,
   "id": "3b4985f2",
   "metadata": {
    "ExecuteTime": {
     "end_time": "2024-06-30T10:21:33.522183100Z",
     "start_time": "2024-06-30T10:21:33.419954300Z"
    }
   },
   "outputs": [
    {
     "name": "stdout",
     "output_type": "stream",
     "text": [
      "nan\n",
      "False\n",
      "False\n",
      "nan\n",
      "True\n",
      "False\n"
     ]
    }
   ],
   "source": [
    "print(0 * np.nan)\n",
    "print(np.nan == np.nan)\n",
    "print(np.inf > np.nan)\n",
    "print(np.nan - np.nan)\n",
    "print(np.nan in set([np.nan]))\n",
    "print(0.3 == 3 * 0.1)"
   ]
  },
  {
   "cell_type": "code",
   "execution_count": 31,
   "outputs": [
    {
     "data": {
      "text/plain": "0.30000000000000004"
     },
     "execution_count": 31,
     "metadata": {},
     "output_type": "execute_result"
    }
   ],
   "source": [
    "3 * 0.1"
   ],
   "metadata": {
    "collapsed": false,
    "ExecuteTime": {
     "end_time": "2024-06-30T10:22:10.707809700Z",
     "start_time": "2024-06-30T10:22:10.611123400Z"
    }
   },
   "id": "1a80d62dc3b608bd"
  },
  {
   "cell_type": "markdown",
   "id": "502738ac",
   "metadata": {},
   "source": [
    "#### 18. Create a 5x5 matrix with values 1,2,3,4 just below the diagonal (★☆☆)"
   ]
  },
  {
   "cell_type": "code",
   "execution_count": 36,
   "id": "faed6e2b",
   "metadata": {
    "ExecuteTime": {
     "end_time": "2024-06-30T10:24:00.829292500Z",
     "start_time": "2024-06-30T10:24:00.730202500Z"
    }
   },
   "outputs": [
    {
     "name": "stdout",
     "output_type": "stream",
     "text": [
      "[[0. 0. 0. 0. 0.]\n",
      " [1. 0. 0. 0. 0.]\n",
      " [0. 2. 0. 0. 0.]\n",
      " [0. 0. 3. 0. 0.]\n",
      " [0. 0. 0. 4. 0.]]\n"
     ]
    }
   ],
   "source": [
    "x = np.zeros((5,5))\n",
    "x[np.arange(1,5), np.arange(4)] = np.arange(1,5)\n",
    "print(x)"
   ]
  },
  {
   "cell_type": "markdown",
   "id": "a65da660",
   "metadata": {},
   "source": [
    "#### 19. Create a 8x8 matrix and fill it with a checkerboard pattern (★☆☆)"
   ]
  },
  {
   "cell_type": "code",
   "execution_count": 46,
   "id": "ed150400",
   "metadata": {
    "ExecuteTime": {
     "end_time": "2024-06-30T10:26:13.406238200Z",
     "start_time": "2024-06-30T10:26:13.351853700Z"
    }
   },
   "outputs": [
    {
     "name": "stdout",
     "output_type": "stream",
     "text": [
      "[[0. 1. 0. 1. 0. 1. 0. 1.]\n",
      " [1. 0. 1. 0. 1. 0. 1. 0.]\n",
      " [0. 1. 0. 1. 0. 1. 0. 1.]\n",
      " [1. 0. 1. 0. 1. 0. 1. 0.]\n",
      " [0. 1. 0. 1. 0. 1. 0. 1.]\n",
      " [1. 0. 1. 0. 1. 0. 1. 0.]\n",
      " [0. 1. 0. 1. 0. 1. 0. 1.]\n",
      " [1. 0. 1. 0. 1. 0. 1. 0.]]\n"
     ]
    }
   ],
   "source": [
    "x = np.zeros((8,8))\n",
    "x[1::2, ::2] = 1\n",
    "x[::2, 1::2] = 1\n",
    "print(x)"
   ]
  },
  {
   "cell_type": "markdown",
   "id": "9f7f9c49",
   "metadata": {},
   "source": [
    "#### 20. Consider a (6,7,8) shape array, what is the index (x,y,z) of the 100th element? (★☆☆)"
   ]
  },
  {
   "cell_type": "code",
   "execution_count": 47,
   "id": "3782b5a9",
   "metadata": {
    "ExecuteTime": {
     "end_time": "2024-06-30T10:27:02.691982300Z",
     "start_time": "2024-06-30T10:27:02.629207500Z"
    }
   },
   "outputs": [
    {
     "name": "stdout",
     "output_type": "stream",
     "text": [
      "(1, 5, 4)\n"
     ]
    }
   ],
   "source": [
    "x = np.random.random((6,7,8))\n",
    "print(np.unravel_index(100, x.shape))"
   ]
  },
  {
   "cell_type": "markdown",
   "id": "66bfda35",
   "metadata": {},
   "source": [
    "#### 21. Create a checkerboard 8x8 matrix using the tile function (★☆☆)"
   ]
  },
  {
   "cell_type": "code",
   "execution_count": 48,
   "id": "4c07477c",
   "metadata": {
    "ExecuteTime": {
     "end_time": "2024-06-30T10:31:47.355101800Z",
     "start_time": "2024-06-30T10:31:47.168500Z"
    }
   },
   "outputs": [
    {
     "name": "stdout",
     "output_type": "stream",
     "text": [
      "[[0 1 0 1 0 1 0 1]\n",
      " [1 0 1 0 1 0 1 0]\n",
      " [0 1 0 1 0 1 0 1]\n",
      " [1 0 1 0 1 0 1 0]\n",
      " [0 1 0 1 0 1 0 1]\n",
      " [1 0 1 0 1 0 1 0]\n",
      " [0 1 0 1 0 1 0 1]\n",
      " [1 0 1 0 1 0 1 0]]\n"
     ]
    }
   ],
   "source": [
    "square = np.array([[0,1], [1,0]])\n",
    "x = np.tile(square, (4,4))\n",
    "print(x)"
   ]
  },
  {
   "cell_type": "markdown",
   "id": "d5bcfc08",
   "metadata": {},
   "source": [
    "#### 22. Normalize a 5x5 random matrix (★☆☆)"
   ]
  },
  {
   "cell_type": "code",
   "execution_count": 49,
   "id": "cea6c993",
   "metadata": {
    "ExecuteTime": {
     "end_time": "2024-06-30T10:32:15.237964500Z",
     "start_time": "2024-06-30T10:32:15.117226300Z"
    }
   },
   "outputs": [
    {
     "name": "stdout",
     "output_type": "stream",
     "text": [
      "[[ 1.15168698 -1.26045336  0.84297841  0.40018711 -0.4584782 ]\n",
      " [-0.09865151  1.10378886 -0.75921759 -0.40732708  0.15920552]\n",
      " [ 1.43864929 -0.23156732  1.30612632  0.9881289  -0.98987403]\n",
      " [-1.63786736 -1.66313407  0.74018632 -1.0801561  -1.60764931]\n",
      " [ 1.17787015  1.37224616  0.00592934 -0.04255531 -0.45005209]]\n"
     ]
    }
   ],
   "source": [
    "x = np.random.random((5,5))\n",
    "x = (x - np.mean(x)) / np.std(x)\n",
    "print(x)"
   ]
  },
  {
   "cell_type": "markdown",
   "id": "f9a0911e",
   "metadata": {},
   "source": [
    "#### 23. Create a custom dtype that describes a color as four unsigned bytes (RGBA) (★☆☆)"
   ]
  },
  {
   "cell_type": "code",
   "execution_count": 50,
   "id": "d165044b",
   "metadata": {
    "ExecuteTime": {
     "end_time": "2024-06-30T10:33:58.618163600Z",
     "start_time": "2024-06-30T10:33:58.566232600Z"
    }
   },
   "outputs": [
    {
     "name": "stderr",
     "output_type": "stream",
     "text": [
      "C:\\Users\\edeng\\AppData\\Local\\Temp\\ipykernel_27380\\3034247072.py:1: FutureWarning: Passing (type, 1) or '1type' as a synonym of type is deprecated; in a future version of numpy, it will be understood as (type, (1,)) / '(1,)type'.\n",
      "  color = np.dtype([(\"r\", np.ubyte, 1),\n"
     ]
    }
   ],
   "source": [
    "color = np.dtype([(\"r\", np.ubyte, 1),\n",
    "                  (\"g\", np.ubyte, 1),\n",
    "                  (\"b\", np.ubyte, 1),\n",
    "                  (\"a\", np.ubyte, 1)])"
   ]
  },
  {
   "cell_type": "markdown",
   "id": "654805b1",
   "metadata": {},
   "source": [
    "#### 24. Multiply a 5x3 matrix by a 3x2 matrix (real matrix product) (★☆☆)"
   ]
  },
  {
   "cell_type": "code",
   "execution_count": 51,
   "id": "6a42619f",
   "metadata": {
    "ExecuteTime": {
     "end_time": "2024-06-30T10:37:12.400319400Z",
     "start_time": "2024-06-30T10:37:12.111958300Z"
    }
   },
   "outputs": [
    {
     "name": "stdout",
     "output_type": "stream",
     "text": [
      "[[0.18974587 0.53671564]\n",
      " [0.89741249 1.25803843]\n",
      " [0.66176284 0.95038427]\n",
      " [0.38219221 0.87536352]\n",
      " [0.20699187 0.50864801]]\n"
     ]
    }
   ],
   "source": [
    "x = np.random.random((5,3))\n",
    "y = np.random.random((3,2))\n",
    "print(np.dot(x, y))"
   ]
  },
  {
   "cell_type": "markdown",
   "id": "994c25df",
   "metadata": {},
   "source": [
    "#### 25. Given a 1D array, negate all elements which are between 3 and 8, in place. (★☆☆)"
   ]
  },
  {
   "cell_type": "code",
   "execution_count": 53,
   "id": "e4b39c03",
   "metadata": {
    "ExecuteTime": {
     "end_time": "2024-06-30T10:38:10.149002100Z",
     "start_time": "2024-06-30T10:38:10.015926500Z"
    }
   },
   "outputs": [
    {
     "name": "stdout",
     "output_type": "stream",
     "text": [
      "[ 0  1  2 -3 -4 -5 -6 -7 -8  9 10]\n"
     ]
    }
   ],
   "source": [
    "x = np.arange(11)\n",
    "x[(3 <= x) & (x <= 8)] *= -1\n",
    "print(x)"
   ]
  },
  {
   "cell_type": "markdown",
   "id": "b7d15d1a",
   "metadata": {},
   "source": [
    "#### 26. What is the output of the following script? (★☆☆)\n",
    "```python\n",
    "# Author: Jake VanderPlas\n",
    "\n",
    "print(sum(range(5),-1))\n",
    "from numpy import *\n",
    "print(sum(range(5),-1))\n",
    "```"
   ]
  },
  {
   "cell_type": "code",
   "execution_count": 54,
   "id": "4c95bc3f",
   "metadata": {
    "ExecuteTime": {
     "end_time": "2024-06-30T10:38:23.581457300Z",
     "start_time": "2024-06-30T10:38:23.509410100Z"
    }
   },
   "outputs": [
    {
     "name": "stdout",
     "output_type": "stream",
     "text": [
      "9\n",
      "10\n"
     ]
    }
   ],
   "source": [
    "print(sum(range(5),-1))\n",
    "from numpy import *\n",
    "print(sum(range(5),-1))"
   ]
  },
  {
   "cell_type": "markdown",
   "id": "a34f0d08",
   "metadata": {},
   "source": [
    "#### 27. Consider an integer vector Z, which of these expressions are legal? (★☆☆)\n",
    "```python\n",
    "Z**Z\n",
    "2 << Z >> 2\n",
    "Z <- Z\n",
    "1j*Z\n",
    "Z/1/1\n",
    "Z<Z>Z\n",
    "```"
   ]
  },
  {
   "cell_type": "code",
   "execution_count": 58,
   "id": "564658fc",
   "metadata": {
    "ExecuteTime": {
     "end_time": "2024-06-30T10:41:36.004563100Z",
     "start_time": "2024-06-30T10:41:35.909629400Z"
    }
   },
   "outputs": [
    {
     "name": "stdout",
     "output_type": "stream",
     "text": [
      "[  1   1   4  27 256]\n",
      "[0 1 2 4 8]\n",
      "[False False False False False]\n",
      "[0.+0.j 0.+1.j 0.+2.j 0.+3.j 0.+4.j]\n",
      "[0. 1. 2. 3. 4.]\n"
     ]
    }
   ],
   "source": [
    "z = np.arange(5)\n",
    "print(z**z)\n",
    "print(2 << z >> 2)\n",
    "print(z <- z)\n",
    "print(1j*z)\n",
    "print(z/1/1)\n",
    "# print(z<z>z)"
   ]
  },
  {
   "cell_type": "markdown",
   "id": "c34e94bf",
   "metadata": {},
   "source": [
    "#### 28. What are the result of the following expressions? (★☆☆)\n",
    "```python\n",
    "np.array(0) / np.array(0)\n",
    "np.array(0) // np.array(0)\n",
    "np.array([np.nan]).astype(int).astype(float)\n",
    "```"
   ]
  },
  {
   "cell_type": "code",
   "execution_count": 62,
   "id": "56663562",
   "metadata": {
    "ExecuteTime": {
     "end_time": "2024-06-30T10:42:26.109320700Z",
     "start_time": "2024-06-30T10:42:26.052178Z"
    }
   },
   "outputs": [
    {
     "name": "stdout",
     "output_type": "stream",
     "text": [
      "nan\n",
      "0\n",
      "[-2.14748365e+09]\n"
     ]
    },
    {
     "name": "stderr",
     "output_type": "stream",
     "text": [
      "C:\\Users\\edeng\\AppData\\Local\\Temp\\ipykernel_27380\\1422587819.py:1: RuntimeWarning: invalid value encountered in divide\n",
      "  print(np.array(0) / np.array(0))\n",
      "C:\\Users\\edeng\\AppData\\Local\\Temp\\ipykernel_27380\\1422587819.py:2: RuntimeWarning: divide by zero encountered in floor_divide\n",
      "  print(np.array(0) // np.array(0))\n",
      "C:\\Users\\edeng\\AppData\\Local\\Temp\\ipykernel_27380\\1422587819.py:3: RuntimeWarning: invalid value encountered in cast\n",
      "  print(np.array([np.nan]).astype(int).astype(float))\n"
     ]
    }
   ],
   "source": [
    "print(np.array(0) / np.array(0))\n",
    "print(np.array(0) // np.array(0))\n",
    "print(np.array([np.nan]).astype(int).astype(float))"
   ]
  },
  {
   "cell_type": "markdown",
   "id": "546f5e7b",
   "metadata": {},
   "source": [
    "#### 29. How to round away from zero a float array ? (★☆☆)"
   ]
  },
  {
   "cell_type": "code",
   "execution_count": 67,
   "id": "f725a6d2",
   "metadata": {
    "ExecuteTime": {
     "end_time": "2024-06-30T10:47:29.980887Z",
     "start_time": "2024-06-30T10:47:29.873984500Z"
    }
   },
   "outputs": [
    {
     "data": {
      "text/plain": "array([1., 1., 1., 1., 1., 1., 1., 1., 1., 1.])"
     },
     "execution_count": 67,
     "metadata": {},
     "output_type": "execute_result"
    }
   ],
   "source": [
    "x = np.random.random(10)\n",
    "np.sign(x) * np.ceil(np.abs(x))"
   ]
  },
  {
   "cell_type": "markdown",
   "id": "eadca856",
   "metadata": {},
   "source": [
    "#### 30. How to find common values between two arrays? (★☆☆)"
   ]
  },
  {
   "cell_type": "code",
   "execution_count": 72,
   "id": "e0270b5b",
   "metadata": {
    "ExecuteTime": {
     "end_time": "2024-06-30T10:48:26.045751300Z",
     "start_time": "2024-06-30T10:48:25.986067400Z"
    }
   },
   "outputs": [
    {
     "name": "stdout",
     "output_type": "stream",
     "text": [
      "[8 2 4 9 9 0 7 2 9 0]\n",
      "[3 3 7 9 1 8 7 8 7 5]\n",
      "[7 8 9]\n"
     ]
    }
   ],
   "source": [
    "x = np.random.randint(0, 10, 10)\n",
    "y = np.random.randint(0, 10, 10)\n",
    "print(x)\n",
    "print(y)\n",
    "print(np.intersect1d(x, y))"
   ]
  },
  {
   "cell_type": "markdown",
   "id": "ca16ca22",
   "metadata": {},
   "source": [
    "#### 31. How to ignore all numpy warnings (not recommended)? (★☆☆)"
   ]
  },
  {
   "cell_type": "code",
   "execution_count": 73,
   "id": "7d7208ef",
   "metadata": {
    "ExecuteTime": {
     "end_time": "2024-06-30T10:48:45.538032500Z",
     "start_time": "2024-06-30T10:48:45.423856200Z"
    }
   },
   "outputs": [],
   "source": [
    "#np.seterr(all=\"ignore\")"
   ]
  },
  {
   "cell_type": "markdown",
   "id": "c7871d0d",
   "metadata": {},
   "source": [
    "#### 32. Is the following expressions true? (★☆☆)\n",
    "```python\n",
    "np.sqrt(-1) == np.emath.sqrt(-1)\n",
    "```"
   ]
  },
  {
   "cell_type": "code",
   "execution_count": 75,
   "id": "acc3701a",
   "metadata": {
    "ExecuteTime": {
     "end_time": "2024-06-30T10:49:34.090078200Z",
     "start_time": "2024-06-30T10:49:33.960213400Z"
    }
   },
   "outputs": [
    {
     "name": "stdout",
     "output_type": "stream",
     "text": [
      "nan\n",
      "1j\n"
     ]
    },
    {
     "name": "stderr",
     "output_type": "stream",
     "text": [
      "C:\\Users\\edeng\\AppData\\Local\\Temp\\ipykernel_27380\\1919505774.py:1: RuntimeWarning: invalid value encountered in sqrt\n",
      "  print(np.sqrt(-1))\n",
      "C:\\Users\\edeng\\AppData\\Local\\Temp\\ipykernel_27380\\1919505774.py:3: RuntimeWarning: invalid value encountered in sqrt\n",
      "  np.sqrt(-1) == np.emath.sqrt(-1)\n"
     ]
    },
    {
     "data": {
      "text/plain": "False"
     },
     "execution_count": 75,
     "metadata": {},
     "output_type": "execute_result"
    }
   ],
   "source": [
    "print(np.sqrt(-1))\n",
    "print(np.emath.sqrt(-1))\n",
    "np.sqrt(-1) == np.emath.sqrt(-1)"
   ]
  },
  {
   "cell_type": "markdown",
   "id": "e0433e30",
   "metadata": {},
   "source": [
    "#### 33. How to get the dates of yesterday, today and tomorrow? (★☆☆)"
   ]
  },
  {
   "cell_type": "code",
   "execution_count": 78,
   "id": "9c4d2152",
   "metadata": {
    "ExecuteTime": {
     "end_time": "2024-06-30T10:50:21.753728500Z",
     "start_time": "2024-06-30T10:50:21.678095Z"
    }
   },
   "outputs": [
    {
     "name": "stdout",
     "output_type": "stream",
     "text": [
      "2024-06-29\n",
      "2024-06-30\n",
      "2024-07-01\n"
     ]
    }
   ],
   "source": [
    "print(np.datetime64('today', 'D') - np.timedelta64(1, 'D'))\n",
    "print(np.datetime64('today', 'D'))\n",
    "print(np.datetime64('today', 'D') + np.timedelta64(1, 'D'))"
   ]
  },
  {
   "cell_type": "markdown",
   "id": "9f52a2ef",
   "metadata": {},
   "source": [
    "#### 34. How to get all the dates corresponding to the month of July 2016? (★★☆)"
   ]
  },
  {
   "cell_type": "code",
   "execution_count": 80,
   "id": "d6c34dec",
   "metadata": {
    "ExecuteTime": {
     "end_time": "2024-06-30T10:50:46.013163100Z",
     "start_time": "2024-06-30T10:50:45.900801200Z"
    }
   },
   "outputs": [
    {
     "name": "stdout",
     "output_type": "stream",
     "text": [
      "['2016-07-01' '2016-07-02' '2016-07-03' '2016-07-04' '2016-07-05'\n",
      " '2016-07-06' '2016-07-07' '2016-07-08' '2016-07-09' '2016-07-10'\n",
      " '2016-07-11' '2016-07-12' '2016-07-13' '2016-07-14' '2016-07-15'\n",
      " '2016-07-16' '2016-07-17' '2016-07-18' '2016-07-19' '2016-07-20'\n",
      " '2016-07-21' '2016-07-22' '2016-07-23' '2016-07-24' '2016-07-25'\n",
      " '2016-07-26' '2016-07-27' '2016-07-28' '2016-07-29' '2016-07-30'\n",
      " '2016-07-31']\n"
     ]
    }
   ],
   "source": [
    "print(np.arange('2016-07', '2016-08', dtype='datetime64[D]'))"
   ]
  },
  {
   "cell_type": "markdown",
   "id": "4a64e059",
   "metadata": {},
   "source": [
    "#### 35. How to compute ((A+B)*(-A/2)) in place (without copy)? (★★☆)"
   ]
  },
  {
   "cell_type": "code",
   "execution_count": 82,
   "id": "49267f60",
   "metadata": {
    "ExecuteTime": {
     "end_time": "2024-06-30T10:53:29.870029300Z",
     "start_time": "2024-06-30T10:53:29.742613700Z"
    }
   },
   "outputs": [
    {
     "name": "stdout",
     "output_type": "stream",
     "text": [
      "[[-0.26498965 -0.40497247 -0.39700153]\n",
      " [-0.07440759 -0.01567368 -0.40851015]\n",
      " [-0.16035891 -0.46003065 -0.81476515]]\n"
     ]
    }
   ],
   "source": [
    "A = np.random.random((3,3))\n",
    "B = np.random.random((3,3))\n",
    "np.add(A, B, out=B)\n",
    "np.divide(A, 2, out=A)\n",
    "np.negative(A, out=A)\n",
    "np.multiply(A, B, out=A)\n",
    "print(A)"
   ]
  },
  {
   "cell_type": "markdown",
   "id": "8a98c2a8",
   "metadata": {},
   "source": [
    "#### 36. Extract the integer part of a random array of positive numbers using 4 different methods (★★☆)"
   ]
  },
  {
   "cell_type": "code",
   "execution_count": 83,
   "id": "368130b3",
   "metadata": {
    "ExecuteTime": {
     "end_time": "2024-06-30T10:55:31.541791200Z",
     "start_time": "2024-06-30T10:55:31.427645900Z"
    }
   },
   "outputs": [
    {
     "name": "stdout",
     "output_type": "stream",
     "text": [
      "[6.94605245 6.42193812 2.96231481 7.17310352 0.7956194  8.52698414\n",
      " 8.17185059 5.3533388  2.74463726 9.70552482]\n",
      "[6. 6. 2. 7. 0. 8. 8. 5. 2. 9.]\n",
      "[6. 6. 2. 7. 0. 8. 8. 5. 2. 9.]\n",
      "[6. 6. 2. 7. 0. 8. 8. 5. 2. 9.]\n",
      "[6 6 2 7 0 8 8 5 2 9]\n"
     ]
    }
   ],
   "source": [
    "x = np.random.uniform(0, 10, 10)\n",
    "print(x)\n",
    "print(x - x % 1)\n",
    "print(np.floor(x))\n",
    "print(np.ceil(x) - 1)\n",
    "print(x.astype(int))"
   ]
  },
  {
   "cell_type": "markdown",
   "id": "5a2e3d85",
   "metadata": {},
   "source": [
    "#### 37. Create a 5x5 matrix with row values ranging from 0 to 4 (★★☆)"
   ]
  },
  {
   "cell_type": "code",
   "execution_count": 84,
   "id": "1d974e8f",
   "metadata": {
    "ExecuteTime": {
     "end_time": "2024-06-30T10:57:14.683137700Z",
     "start_time": "2024-06-30T10:57:14.568578Z"
    }
   },
   "outputs": [
    {
     "name": "stdout",
     "output_type": "stream",
     "text": [
      "[[0 1 2 3 4]\n",
      " [0 1 2 3 4]\n",
      " [0 1 2 3 4]\n",
      " [0 1 2 3 4]\n",
      " [0 1 2 3 4]]\n"
     ]
    }
   ],
   "source": [
    "x = np.tile(np.arange(5), (5, 1))\n",
    "print(x)"
   ]
  },
  {
   "cell_type": "markdown",
   "id": "9720e2d5",
   "metadata": {},
   "source": [
    "#### 38. Consider a generator function that generates 10 integers and use it to build an array (★☆☆)"
   ]
  },
  {
   "cell_type": "code",
   "execution_count": 86,
   "id": "e5dd8fc9",
   "metadata": {
    "ExecuteTime": {
     "end_time": "2024-06-30T10:59:53.919485800Z",
     "start_time": "2024-06-30T10:59:53.838055800Z"
    }
   },
   "outputs": [
    {
     "name": "stdout",
     "output_type": "stream",
     "text": [
      "[3 0 1 1 0 3 1 2 0 4]\n"
     ]
    }
   ],
   "source": [
    "def gen():\n",
    "    for i in range(10):\n",
    "        yield np.random.randint(5)\n",
    "\n",
    "x = np.fromiter(gen(), dtype=int)\n",
    "print(x)"
   ]
  },
  {
   "cell_type": "markdown",
   "id": "c6f2c912",
   "metadata": {},
   "source": [
    "#### 39. Create a vector of size 10 with values ranging from 0 to 1, both excluded (★★☆)"
   ]
  },
  {
   "cell_type": "code",
   "execution_count": 91,
   "id": "6aaa27d3",
   "metadata": {
    "ExecuteTime": {
     "end_time": "2024-06-30T11:01:49.490205300Z",
     "start_time": "2024-06-30T11:01:49.418187300Z"
    }
   },
   "outputs": [
    {
     "data": {
      "text/plain": "array([0.09090909, 0.18181818, 0.27272727, 0.36363636, 0.45454545,\n       0.54545455, 0.63636364, 0.72727273, 0.81818182, 0.90909091])"
     },
     "execution_count": 91,
     "metadata": {},
     "output_type": "execute_result"
    }
   ],
   "source": [
    "np.linspace(0, 1, 12)[1:-1]"
   ]
  },
  {
   "cell_type": "markdown",
   "id": "a36d6ee4",
   "metadata": {},
   "source": [
    "#### 40. Create a random vector of size 10 and sort it (★★☆)"
   ]
  },
  {
   "cell_type": "code",
   "execution_count": 93,
   "id": "e589d216",
   "metadata": {
    "ExecuteTime": {
     "end_time": "2024-06-30T11:02:23.287231300Z",
     "start_time": "2024-06-30T11:02:23.176054600Z"
    }
   },
   "outputs": [
    {
     "name": "stdout",
     "output_type": "stream",
     "text": [
      "[2.95213566e-05 1.78987086e-01 2.92084723e-01 3.60598789e-01\n",
      " 5.06417390e-01 7.31352386e-01 8.65839244e-01 8.68677025e-01\n",
      " 8.92861625e-01 9.44989298e-01]\n"
     ]
    }
   ],
   "source": [
    "x = np.random.random(10)\n",
    "x.sort()\n",
    "print(x)"
   ]
  },
  {
   "cell_type": "markdown",
   "id": "0fb4ad68",
   "metadata": {},
   "source": [
    "#### 41. How to sum a small array faster than np.sum? (★★☆)"
   ]
  },
  {
   "cell_type": "code",
   "execution_count": 123,
   "id": "a1ba05a0",
   "metadata": {
    "ExecuteTime": {
     "end_time": "2024-06-30T11:04:42.644995900Z",
     "start_time": "2024-06-30T11:04:42.547870200Z"
    }
   },
   "outputs": [
    {
     "name": "stdout",
     "output_type": "stream",
     "text": [
      "np.sum result: 15, time taken: 0.0\n",
      "built-in sum result: 15, time taken: 0.0\n"
     ]
    }
   ],
   "source": [
    "import time\n",
    "\n",
    "small_array = np.array([1, 2, 3, 4, 5])\n",
    "\n",
    "start_time = time.time()\n",
    "np_sum_result = np.sum(small_array)\n",
    "np_sum_time = time.time() - start_time\n",
    "\n",
    "start_time = time.time()\n",
    "builtin_sum_result = sum(small_array)\n",
    "builtin_sum_time = time.time() - start_time\n",
    "\n",
    "print(f\"np.sum result: {np_sum_result}, time taken: {np_sum_time}\")\n",
    "print(f\"built-in sum result: {builtin_sum_result}, time taken: {builtin_sum_time}\")\n"
   ]
  },
  {
   "cell_type": "markdown",
   "id": "024ac365",
   "metadata": {},
   "source": [
    "#### 42. Consider two random array A and B, check if they are equal (★★☆)"
   ]
  },
  {
   "cell_type": "code",
   "execution_count": 97,
   "id": "7db3846d",
   "metadata": {
    "ExecuteTime": {
     "end_time": "2024-06-30T11:04:14.452178400Z",
     "start_time": "2024-06-30T11:04:14.340163600Z"
    }
   },
   "outputs": [
    {
     "data": {
      "text/plain": "False"
     },
     "execution_count": 97,
     "metadata": {},
     "output_type": "execute_result"
    }
   ],
   "source": [
    "A = np.random.random((5, 5))\n",
    "B = np.random.random((5, 5))\n",
    "\n",
    "np.array_equal(A, B)"
   ]
  },
  {
   "cell_type": "markdown",
   "id": "c68d2401",
   "metadata": {},
   "source": [
    "#### 43. Make an array immutable (read-only) (★★☆)"
   ]
  },
  {
   "cell_type": "code",
   "execution_count": 124,
   "id": "7828539d",
   "metadata": {
    "ExecuteTime": {
     "end_time": "2024-06-30T11:05:16.240536Z",
     "start_time": "2024-06-30T11:05:16.183596300Z"
    }
   },
   "outputs": [],
   "source": [
    "array = np.array([1, 2, 3, 4, 5])\n",
    "\n",
    "array.flags.writeable = False"
   ]
  },
  {
   "cell_type": "markdown",
   "id": "55df6280",
   "metadata": {},
   "source": [
    "#### 44. Consider a random 10x2 matrix representing cartesian coordinates, convert them to polar coordinates (★★☆)"
   ]
  },
  {
   "cell_type": "code",
   "execution_count": 125,
   "id": "f1c86ea0",
   "metadata": {
    "ExecuteTime": {
     "end_time": "2024-06-30T11:05:59.530629Z",
     "start_time": "2024-06-30T11:05:59.389860600Z"
    }
   },
   "outputs": [
    {
     "name": "stdout",
     "output_type": "stream",
     "text": [
      "Cartesian coordinates:\n",
      " [[0.36314224 0.94124058]\n",
      " [0.41954604 0.05462871]\n",
      " [0.47978702 0.93521936]\n",
      " [0.7279891  0.95966242]\n",
      " [0.22550231 0.4033299 ]\n",
      " [0.56385474 0.67114586]\n",
      " [0.24151008 0.12165964]\n",
      " [0.66914564 0.10864066]\n",
      " [0.79382357 0.94637055]\n",
      " [0.86673782 0.10321271]]\n",
      "Polar coordinates (r, theta):\n",
      " [[1.00886377 1.20258019]\n",
      " [0.42308767 0.12948061]\n",
      " [1.05110934 1.09678639]\n",
      " [1.20454144 0.92182105]\n",
      " [0.46208906 1.06099235]\n",
      " [0.87656656 0.87205595]\n",
      " [0.27042224 0.46663959]\n",
      " [0.67790758 0.16095284]\n",
      " [1.23522187 0.87283555]\n",
      " [0.87286156 0.11852367]]\n"
     ]
    }
   ],
   "source": [
    "cartesian_coords = np.random.rand(10, 2)\n",
    "\n",
    "x = cartesian_coords[:, 0]\n",
    "y = cartesian_coords[:, 1]\n",
    "\n",
    "r = np.sqrt(x**2 + y**2)\n",
    "\n",
    "theta = np.arctan2(y, x)\n",
    "\n",
    "polar_coords = np.column_stack((r, theta))\n",
    "\n",
    "print(\"Cartesian coordinates:\\n\", cartesian_coords)\n",
    "print(\"Polar coordinates (r, theta):\\n\", polar_coords)"
   ]
  },
  {
   "cell_type": "markdown",
   "id": "2f60f1ec",
   "metadata": {},
   "source": [
    "#### 45. Create random vector of size 10 and replace the maximum value by 0 (★★☆)"
   ]
  },
  {
   "cell_type": "code",
   "execution_count": 127,
   "id": "d9f48f1c",
   "metadata": {
    "ExecuteTime": {
     "end_time": "2024-06-30T11:06:47.018546800Z",
     "start_time": "2024-06-30T11:06:46.958461600Z"
    }
   },
   "outputs": [
    {
     "name": "stdout",
     "output_type": "stream",
     "text": [
      "[0.62229098 0.68373955 0.78882583 0.1553241  0.91669599 0.73778793\n",
      " 0.67937814 0.76754499 0.66601541 0.08405281]\n",
      "[0.62229098 0.68373955 0.78882583 0.1553241  0.         0.73778793\n",
      " 0.67937814 0.76754499 0.66601541 0.08405281]\n"
     ]
    }
   ],
   "source": [
    "x = np.random.random(10)\n",
    "print(x)\n",
    "x[x.argmax()] = 0\n",
    "print(x)"
   ]
  },
  {
   "cell_type": "markdown",
   "id": "084e8ad4",
   "metadata": {},
   "source": [
    "#### 46. Create a structured array with `x` and `y` coordinates covering the [0,1]x[0,1] area (★★☆)"
   ]
  },
  {
   "cell_type": "code",
   "execution_count": null,
   "id": "58b47c13",
   "metadata": {},
   "outputs": [],
   "source": []
  },
  {
   "cell_type": "markdown",
   "id": "d7b9bc42",
   "metadata": {},
   "source": [
    "#### 47. Given two arrays, X and Y, construct the Cauchy matrix C (Cij =1/(xi - yj)) (★★☆)"
   ]
  },
  {
   "cell_type": "code",
   "execution_count": null,
   "id": "a24824fb",
   "metadata": {},
   "outputs": [],
   "source": []
  },
  {
   "cell_type": "markdown",
   "id": "65ebc11b",
   "metadata": {},
   "source": [
    "#### 48. Print the minimum and maximum representable value for each numpy scalar type (★★☆)"
   ]
  },
  {
   "cell_type": "code",
   "execution_count": null,
   "id": "e45d38fb",
   "metadata": {},
   "outputs": [],
   "source": []
  },
  {
   "cell_type": "markdown",
   "id": "9b317a98",
   "metadata": {},
   "source": [
    "#### 49. How to print all the values of an array? (★★☆)"
   ]
  },
  {
   "cell_type": "code",
   "execution_count": null,
   "id": "309cdeb9",
   "metadata": {},
   "outputs": [],
   "source": []
  },
  {
   "cell_type": "markdown",
   "id": "b580f9d0",
   "metadata": {},
   "source": [
    "#### 50. How to find the closest value (to a given scalar) in a vector? (★★☆)"
   ]
  },
  {
   "cell_type": "code",
   "execution_count": null,
   "id": "ebfb6714",
   "metadata": {},
   "outputs": [],
   "source": []
  },
  {
   "cell_type": "markdown",
   "id": "602e6252",
   "metadata": {},
   "source": [
    "#### 51. Create a structured array representing a position (x,y) and a color (r,g,b) (★★☆)"
   ]
  },
  {
   "cell_type": "code",
   "execution_count": null,
   "id": "cf002b3a",
   "metadata": {},
   "outputs": [],
   "source": []
  },
  {
   "cell_type": "markdown",
   "id": "78bcd92f",
   "metadata": {},
   "source": [
    "#### 52. Consider a random vector with shape (100,2) representing coordinates, find point by point distances (★★☆)"
   ]
  },
  {
   "cell_type": "code",
   "execution_count": null,
   "id": "fea7f9a6",
   "metadata": {},
   "outputs": [],
   "source": []
  },
  {
   "cell_type": "markdown",
   "id": "343c5a85",
   "metadata": {},
   "source": [
    "#### 53. How to convert a float (32 bits) array into an integer (32 bits) in place?"
   ]
  },
  {
   "cell_type": "code",
   "execution_count": null,
   "id": "fc1b687b",
   "metadata": {},
   "outputs": [],
   "source": []
  },
  {
   "cell_type": "markdown",
   "id": "a69e1ace",
   "metadata": {},
   "source": [
    "#### 54. How to read the following file? (★★☆)\n",
    "```\n",
    "1, 2, 3, 4, 5\n",
    "6,  ,  , 7, 8\n",
    " ,  , 9,10,11\n",
    "```"
   ]
  },
  {
   "cell_type": "code",
   "execution_count": null,
   "id": "1c7957d4",
   "metadata": {},
   "outputs": [],
   "source": []
  },
  {
   "cell_type": "markdown",
   "id": "c23bd80d",
   "metadata": {},
   "source": [
    "#### 55. What is the equivalent of enumerate for numpy arrays? (★★☆)"
   ]
  },
  {
   "cell_type": "code",
   "execution_count": null,
   "id": "d95d9578",
   "metadata": {},
   "outputs": [],
   "source": []
  },
  {
   "cell_type": "markdown",
   "id": "2153a5ec",
   "metadata": {},
   "source": [
    "#### 56. Generate a generic 2D Gaussian-like array (★★☆)"
   ]
  },
  {
   "cell_type": "code",
   "execution_count": null,
   "id": "61122d1e",
   "metadata": {},
   "outputs": [],
   "source": []
  },
  {
   "cell_type": "markdown",
   "id": "2e76d589",
   "metadata": {},
   "source": [
    "#### 57. How to randomly place p elements in a 2D array? (★★☆)"
   ]
  },
  {
   "cell_type": "code",
   "execution_count": null,
   "id": "0c2e4fcc",
   "metadata": {},
   "outputs": [],
   "source": []
  },
  {
   "cell_type": "markdown",
   "id": "8b3933eb",
   "metadata": {},
   "source": [
    "#### 58. Subtract the mean of each row of a matrix (★★☆)"
   ]
  },
  {
   "cell_type": "code",
   "execution_count": null,
   "id": "a306c9ef",
   "metadata": {},
   "outputs": [],
   "source": []
  },
  {
   "cell_type": "markdown",
   "id": "ea8807c0",
   "metadata": {},
   "source": [
    "#### 59. How to sort an array by the nth column? (★★☆)"
   ]
  },
  {
   "cell_type": "code",
   "execution_count": null,
   "id": "cc89a699",
   "metadata": {},
   "outputs": [],
   "source": []
  },
  {
   "cell_type": "markdown",
   "id": "00fa00a1",
   "metadata": {},
   "source": [
    "#### 60. How to tell if a given 2D array has null columns? (★★☆)"
   ]
  },
  {
   "cell_type": "code",
   "execution_count": null,
   "id": "3436e165",
   "metadata": {},
   "outputs": [],
   "source": []
  },
  {
   "cell_type": "markdown",
   "id": "5a65c7a2",
   "metadata": {},
   "source": [
    "#### 61. Find the nearest value from a given value in an array (★★☆)"
   ]
  },
  {
   "cell_type": "code",
   "execution_count": null,
   "id": "73f149d6",
   "metadata": {},
   "outputs": [],
   "source": []
  },
  {
   "cell_type": "markdown",
   "id": "dd83e8af",
   "metadata": {},
   "source": [
    "#### 62. Considering two arrays with shape (1,3) and (3,1), how to compute their sum using an iterator? (★★☆)"
   ]
  },
  {
   "cell_type": "code",
   "execution_count": null,
   "id": "29a709a1",
   "metadata": {},
   "outputs": [],
   "source": []
  },
  {
   "cell_type": "markdown",
   "id": "6c042efa",
   "metadata": {},
   "source": [
    "#### 63. Create an array class that has a name attribute (★★☆)"
   ]
  },
  {
   "cell_type": "code",
   "execution_count": null,
   "id": "45b3d2e0",
   "metadata": {},
   "outputs": [],
   "source": []
  },
  {
   "cell_type": "markdown",
   "id": "0a075c3d",
   "metadata": {},
   "source": [
    "#### 64. Consider a given vector, how to add 1 to each element indexed by a second vector (be careful with repeated indices)? (★★★)"
   ]
  },
  {
   "cell_type": "code",
   "execution_count": 128,
   "id": "36c50470",
   "metadata": {
    "ExecuteTime": {
     "end_time": "2024-06-30T11:11:32.891247100Z",
     "start_time": "2024-06-30T11:11:32.803107300Z"
    }
   },
   "outputs": [],
   "source": [
    "# np.add.at(vector, indices, 1)\n"
   ]
  },
  {
   "cell_type": "markdown",
   "id": "0fb2f0c5",
   "metadata": {},
   "source": [
    "#### 65. How to accumulate elements of a vector (X) to an array (F) based on an index list (I)? (★★★)"
   ]
  },
  {
   "cell_type": "code",
   "execution_count": null,
   "id": "58aa5f82",
   "metadata": {},
   "outputs": [],
   "source": [
    "# np.add.at(vector, indices, second_vector)"
   ]
  },
  {
   "cell_type": "markdown",
   "id": "d89dc506",
   "metadata": {},
   "source": [
    "#### 66. Considering a (w,h,3) image of (dtype=ubyte), compute the number of unique colors (★★☆)"
   ]
  },
  {
   "cell_type": "code",
   "execution_count": 129,
   "id": "8fb43a49",
   "metadata": {
    "ExecuteTime": {
     "end_time": "2024-06-30T11:15:35.583448600Z",
     "start_time": "2024-06-30T11:15:35.469677200Z"
    }
   },
   "outputs": [],
   "source": [
    "ubyte_size = 8\n",
    "rgb_size = 3\n",
    "num_colors = 3*8"
   ]
  },
  {
   "cell_type": "markdown",
   "id": "535a5d81",
   "metadata": {},
   "source": [
    "#### 67. Considering a four dimensions array, how to get sum over the last two axis at once? (★★★)"
   ]
  },
  {
   "cell_type": "code",
   "execution_count": 131,
   "id": "f954ab9d",
   "metadata": {
    "ExecuteTime": {
     "end_time": "2024-06-30T11:18:20.111325400Z",
     "start_time": "2024-06-30T11:18:19.822114800Z"
    }
   },
   "outputs": [
    {
     "data": {
      "text/plain": "array([[7.65693172, 8.39383293, 8.23454654, 6.49159499],\n       [7.64322509, 9.38408409, 9.25067512, 7.75505874],\n       [6.2220715 , 9.11307534, 8.79211097, 8.43212271],\n       [8.51300718, 7.91808503, 7.39106532, 8.97929598]])"
     },
     "execution_count": 131,
     "metadata": {},
     "output_type": "execute_result"
    }
   ],
   "source": [
    "x = np.random.random((4,4,4,4))\n",
    "x.sum((-2,-1))"
   ]
  },
  {
   "cell_type": "markdown",
   "id": "eee66d3c",
   "metadata": {},
   "source": [
    "#### 68. Considering a one-dimensional vector D, how to compute means of subsets of D using a vector S of same size describing subset  indices? (★★★)"
   ]
  },
  {
   "cell_type": "code",
   "execution_count": null,
   "id": "8929773a",
   "metadata": {},
   "outputs": [],
   "source": []
  },
  {
   "cell_type": "markdown",
   "id": "f90d4c40",
   "metadata": {},
   "source": [
    "#### 69. How to get the diagonal of a dot product? (★★★)"
   ]
  },
  {
   "cell_type": "code",
   "execution_count": null,
   "id": "b47d392d",
   "metadata": {},
   "outputs": [],
   "source": []
  },
  {
   "cell_type": "markdown",
   "id": "a8a97e7d",
   "metadata": {},
   "source": [
    "#### 70. Consider the vector [1, 2, 3, 4, 5], how to build a new vector with 3 consecutive zeros interleaved between each value? (★★★)"
   ]
  },
  {
   "cell_type": "code",
   "execution_count": null,
   "id": "ee6c6c37",
   "metadata": {},
   "outputs": [],
   "source": []
  },
  {
   "cell_type": "markdown",
   "id": "d6a30d60",
   "metadata": {},
   "source": [
    "#### 71. Consider an array of dimension (5,5,3), how to mulitply it by an array with dimensions (5,5)? (★★★)"
   ]
  },
  {
   "cell_type": "code",
   "execution_count": null,
   "id": "e9703f2e",
   "metadata": {},
   "outputs": [],
   "source": []
  },
  {
   "cell_type": "markdown",
   "id": "bac359a9",
   "metadata": {},
   "source": [
    "#### 72. How to swap two rows of an array? (★★★)"
   ]
  },
  {
   "cell_type": "code",
   "execution_count": null,
   "id": "f1b432b1",
   "metadata": {},
   "outputs": [],
   "source": []
  },
  {
   "cell_type": "markdown",
   "id": "620c9f83",
   "metadata": {},
   "source": [
    "#### 73. Consider a set of 10 triplets describing 10 triangles (with shared vertices), find the set of unique line segments composing all the  triangles (★★★)"
   ]
  },
  {
   "cell_type": "code",
   "execution_count": null,
   "id": "4e595ffc",
   "metadata": {},
   "outputs": [],
   "source": []
  },
  {
   "cell_type": "markdown",
   "id": "a76c55a2",
   "metadata": {},
   "source": [
    "#### 74. Given a sorted array C that corresponds to a bincount, how to produce an array A such that np.bincount(A) == C? (★★★)"
   ]
  },
  {
   "cell_type": "code",
   "execution_count": null,
   "id": "2d2ae65a",
   "metadata": {},
   "outputs": [],
   "source": []
  },
  {
   "cell_type": "markdown",
   "id": "d550c8e2",
   "metadata": {},
   "source": [
    "#### 75. How to compute averages using a sliding window over an array? (★★★)"
   ]
  },
  {
   "cell_type": "code",
   "execution_count": null,
   "id": "841c457c",
   "metadata": {},
   "outputs": [],
   "source": []
  },
  {
   "cell_type": "markdown",
   "id": "6b170b00",
   "metadata": {},
   "source": [
    "#### 76. Consider a one-dimensional array Z, build a two-dimensional array whose first row is (Z[0],Z[1],Z[2]) and each subsequent row is  shifted by 1 (last row should be (Z[-3],Z[-2],Z[-1]) (★★★)"
   ]
  },
  {
   "cell_type": "code",
   "execution_count": null,
   "id": "d9a0cf4e",
   "metadata": {},
   "outputs": [],
   "source": []
  },
  {
   "cell_type": "markdown",
   "id": "e94a5c1d",
   "metadata": {},
   "source": [
    "#### 77. How to negate a boolean, or to change the sign of a float inplace? (★★★)"
   ]
  },
  {
   "cell_type": "code",
   "execution_count": null,
   "id": "c0f9504f",
   "metadata": {},
   "outputs": [],
   "source": []
  },
  {
   "cell_type": "markdown",
   "id": "4eb8b5c1",
   "metadata": {},
   "source": [
    "#### 78. Consider 2 sets of points P0,P1 describing lines (2d) and a point p, how to compute distance from p to each line i (P0[i],P1[i])? (★★★)"
   ]
  },
  {
   "cell_type": "code",
   "execution_count": null,
   "id": "487f47ec",
   "metadata": {},
   "outputs": [],
   "source": []
  },
  {
   "cell_type": "markdown",
   "id": "3df99948",
   "metadata": {},
   "source": [
    "#### 79. Consider 2 sets of points P0,P1 describing lines (2d) and a set of points P, how to compute distance from each point j (P[j]) to each line i (P0[i],P1[i])? (★★★)"
   ]
  },
  {
   "cell_type": "code",
   "execution_count": null,
   "id": "dc2df37b",
   "metadata": {},
   "outputs": [],
   "source": []
  },
  {
   "cell_type": "markdown",
   "id": "11e972c2",
   "metadata": {},
   "source": [
    "#### 80. Consider an arbitrary array, write a function that extract a subpart with a fixed shape and centered on a given element (pad with a `fill` value when necessary) (★★★)"
   ]
  },
  {
   "cell_type": "code",
   "execution_count": null,
   "id": "0291247f",
   "metadata": {},
   "outputs": [],
   "source": []
  },
  {
   "cell_type": "markdown",
   "id": "93cfeab3",
   "metadata": {},
   "source": [
    "#### 81. Consider an array Z = [1,2,3,4,5,6,7,8,9,10,11,12,13,14], how to generate an array R = [[1,2,3,4], [2,3,4,5], [3,4,5,6], ..., [11,12,13,14]]? (★★★)"
   ]
  },
  {
   "cell_type": "markdown",
   "source": [],
   "metadata": {
    "collapsed": false
   },
   "id": "d73b3b331ca2e9d9"
  },
  {
   "cell_type": "code",
   "execution_count": 135,
   "id": "360de791",
   "metadata": {
    "ExecuteTime": {
     "end_time": "2024-06-30T11:28:11.365771800Z",
     "start_time": "2024-06-30T11:28:11.253686700Z"
    }
   },
   "outputs": [
    {
     "name": "stdout",
     "output_type": "stream",
     "text": [
      "[[ 1  2  3  4]\n",
      " [ 2  3  4  5]\n",
      " [ 3  4  5  6]\n",
      " [ 4  5  6  7]\n",
      " [ 5  6  7  8]\n",
      " [ 6  7  8  9]\n",
      " [ 7  8  9 10]\n",
      " [ 8  9 10 11]\n",
      " [ 9 10 11 12]\n",
      " [10 11 12 13]\n",
      " [11 12 13 14]]\n"
     ]
    }
   ],
   "source": [
    "Z = [1,2,3,4,5,6,7,8,9,10,11,12,13,14]\n",
    "R = np.array([Z[i:i+4] for i in range(len(Z)-3)])\n",
    "print(R)"
   ]
  },
  {
   "cell_type": "markdown",
   "id": "4c15ceff",
   "metadata": {},
   "source": [
    "#### 82. Compute a matrix rank (★★★)"
   ]
  },
  {
   "cell_type": "code",
   "execution_count": 259,
   "id": "9a4272d2",
   "metadata": {
    "ExecuteTime": {
     "end_time": "2024-07-01T09:59:59.896207200Z",
     "start_time": "2024-07-01T09:59:59.694510700Z"
    }
   },
   "outputs": [
    {
     "name": "stdout",
     "output_type": "stream",
     "text": [
      "Matrix:\n",
      " [[1 2 3]\n",
      " [4 5 6]\n",
      " [7 8 9]]\n",
      "Rank of the matrix: 2\n"
     ]
    }
   ],
   "source": [
    "matrix = np.array([\n",
    "    [1, 2, 3],\n",
    "    [4, 5, 6],\n",
    "    [7, 8, 9]\n",
    "])\n",
    "\n",
    "rank = np.linalg.matrix_rank(matrix)\n",
    "\n",
    "print(\"Matrix:\\n\", matrix)\n",
    "print(\"Rank of the matrix:\", rank)"
   ]
  },
  {
   "cell_type": "markdown",
   "id": "1171cb84",
   "metadata": {},
   "source": [
    "#### 83. How to find the most frequent value in an array?"
   ]
  },
  {
   "cell_type": "code",
   "execution_count": 258,
   "id": "33e951c8",
   "metadata": {
    "ExecuteTime": {
     "end_time": "2024-07-01T09:58:44.326711900Z",
     "start_time": "2024-07-01T09:58:44.249858600Z"
    }
   },
   "outputs": [
    {
     "name": "stdout",
     "output_type": "stream",
     "text": [
      "4\n",
      "[0 0 2 3 4 1 0 0 1]\n",
      "[8 2 2 3 3 3 4 4 4 4 5]\n"
     ]
    }
   ],
   "source": [
    "array = np.array([8, 2, 2, 3, 3, 3, 4, 4, 4, 4, 5])\n",
    "most_frequent = np.bincount(array)\n",
    "print(np.argmax(most_frequent))\n",
    "print(most_frequent)\n",
    "print(array)\n",
    "# can use unique if not ints"
   ]
  },
  {
   "cell_type": "markdown",
   "id": "04f472aa",
   "metadata": {},
   "source": [
    "#### 84. Extract all the contiguous 3x3 blocks from a random 10x10 matrix (★★★)"
   ]
  },
  {
   "cell_type": "code",
   "execution_count": 260,
   "id": "7aade14a",
   "metadata": {
    "ExecuteTime": {
     "end_time": "2024-07-01T10:01:23.552000600Z",
     "start_time": "2024-07-01T10:01:23.475834200Z"
    }
   },
   "outputs": [
    {
     "name": "stdout",
     "output_type": "stream",
     "text": [
      "Original 10x10 matrix:\n",
      " [[9 6 9 1 9 5 9 2 0 1]\n",
      " [0 4 3 9 1 8 2 7 0 1]\n",
      " [1 8 7 4 5 1 2 5 8 2]\n",
      " [1 4 1 1 9 4 1 8 7 9]\n",
      " [4 5 6 8 8 0 8 0 2 2]\n",
      " [6 5 5 0 8 7 8 7 7 3]\n",
      " [4 4 1 0 5 9 8 8 0 0]\n",
      " [2 8 6 7 9 3 9 0 4 1]\n",
      " [9 8 0 1 3 8 4 6 6 9]\n",
      " [0 9 1 7 5 0 2 7 4 2]]\n",
      "Extracted 3x3 blocks:\n",
      " [[[9 6 9]\n",
      "  [0 4 3]\n",
      "  [1 8 7]]\n",
      "\n",
      " [[6 9 1]\n",
      "  [4 3 9]\n",
      "  [8 7 4]]\n",
      "\n",
      " [[9 1 9]\n",
      "  [3 9 1]\n",
      "  [7 4 5]]\n",
      "\n",
      " [[1 9 5]\n",
      "  [9 1 8]\n",
      "  [4 5 1]]\n",
      "\n",
      " [[9 5 9]\n",
      "  [1 8 2]\n",
      "  [5 1 2]]\n",
      "\n",
      " [[5 9 2]\n",
      "  [8 2 7]\n",
      "  [1 2 5]]\n",
      "\n",
      " [[9 2 0]\n",
      "  [2 7 0]\n",
      "  [2 5 8]]\n",
      "\n",
      " [[2 0 1]\n",
      "  [7 0 1]\n",
      "  [5 8 2]]\n",
      "\n",
      " [[0 4 3]\n",
      "  [1 8 7]\n",
      "  [1 4 1]]\n",
      "\n",
      " [[4 3 9]\n",
      "  [8 7 4]\n",
      "  [4 1 1]]\n",
      "\n",
      " [[3 9 1]\n",
      "  [7 4 5]\n",
      "  [1 1 9]]\n",
      "\n",
      " [[9 1 8]\n",
      "  [4 5 1]\n",
      "  [1 9 4]]\n",
      "\n",
      " [[1 8 2]\n",
      "  [5 1 2]\n",
      "  [9 4 1]]\n",
      "\n",
      " [[8 2 7]\n",
      "  [1 2 5]\n",
      "  [4 1 8]]\n",
      "\n",
      " [[2 7 0]\n",
      "  [2 5 8]\n",
      "  [1 8 7]]\n",
      "\n",
      " [[7 0 1]\n",
      "  [5 8 2]\n",
      "  [8 7 9]]\n",
      "\n",
      " [[1 8 7]\n",
      "  [1 4 1]\n",
      "  [4 5 6]]\n",
      "\n",
      " [[8 7 4]\n",
      "  [4 1 1]\n",
      "  [5 6 8]]\n",
      "\n",
      " [[7 4 5]\n",
      "  [1 1 9]\n",
      "  [6 8 8]]\n",
      "\n",
      " [[4 5 1]\n",
      "  [1 9 4]\n",
      "  [8 8 0]]\n",
      "\n",
      " [[5 1 2]\n",
      "  [9 4 1]\n",
      "  [8 0 8]]\n",
      "\n",
      " [[1 2 5]\n",
      "  [4 1 8]\n",
      "  [0 8 0]]\n",
      "\n",
      " [[2 5 8]\n",
      "  [1 8 7]\n",
      "  [8 0 2]]\n",
      "\n",
      " [[5 8 2]\n",
      "  [8 7 9]\n",
      "  [0 2 2]]\n",
      "\n",
      " [[1 4 1]\n",
      "  [4 5 6]\n",
      "  [6 5 5]]\n",
      "\n",
      " [[4 1 1]\n",
      "  [5 6 8]\n",
      "  [5 5 0]]\n",
      "\n",
      " [[1 1 9]\n",
      "  [6 8 8]\n",
      "  [5 0 8]]\n",
      "\n",
      " [[1 9 4]\n",
      "  [8 8 0]\n",
      "  [0 8 7]]\n",
      "\n",
      " [[9 4 1]\n",
      "  [8 0 8]\n",
      "  [8 7 8]]\n",
      "\n",
      " [[4 1 8]\n",
      "  [0 8 0]\n",
      "  [7 8 7]]\n",
      "\n",
      " [[1 8 7]\n",
      "  [8 0 2]\n",
      "  [8 7 7]]\n",
      "\n",
      " [[8 7 9]\n",
      "  [0 2 2]\n",
      "  [7 7 3]]\n",
      "\n",
      " [[4 5 6]\n",
      "  [6 5 5]\n",
      "  [4 4 1]]\n",
      "\n",
      " [[5 6 8]\n",
      "  [5 5 0]\n",
      "  [4 1 0]]\n",
      "\n",
      " [[6 8 8]\n",
      "  [5 0 8]\n",
      "  [1 0 5]]\n",
      "\n",
      " [[8 8 0]\n",
      "  [0 8 7]\n",
      "  [0 5 9]]\n",
      "\n",
      " [[8 0 8]\n",
      "  [8 7 8]\n",
      "  [5 9 8]]\n",
      "\n",
      " [[0 8 0]\n",
      "  [7 8 7]\n",
      "  [9 8 8]]\n",
      "\n",
      " [[8 0 2]\n",
      "  [8 7 7]\n",
      "  [8 8 0]]\n",
      "\n",
      " [[0 2 2]\n",
      "  [7 7 3]\n",
      "  [8 0 0]]\n",
      "\n",
      " [[6 5 5]\n",
      "  [4 4 1]\n",
      "  [2 8 6]]\n",
      "\n",
      " [[5 5 0]\n",
      "  [4 1 0]\n",
      "  [8 6 7]]\n",
      "\n",
      " [[5 0 8]\n",
      "  [1 0 5]\n",
      "  [6 7 9]]\n",
      "\n",
      " [[0 8 7]\n",
      "  [0 5 9]\n",
      "  [7 9 3]]\n",
      "\n",
      " [[8 7 8]\n",
      "  [5 9 8]\n",
      "  [9 3 9]]\n",
      "\n",
      " [[7 8 7]\n",
      "  [9 8 8]\n",
      "  [3 9 0]]\n",
      "\n",
      " [[8 7 7]\n",
      "  [8 8 0]\n",
      "  [9 0 4]]\n",
      "\n",
      " [[7 7 3]\n",
      "  [8 0 0]\n",
      "  [0 4 1]]\n",
      "\n",
      " [[4 4 1]\n",
      "  [2 8 6]\n",
      "  [9 8 0]]\n",
      "\n",
      " [[4 1 0]\n",
      "  [8 6 7]\n",
      "  [8 0 1]]\n",
      "\n",
      " [[1 0 5]\n",
      "  [6 7 9]\n",
      "  [0 1 3]]\n",
      "\n",
      " [[0 5 9]\n",
      "  [7 9 3]\n",
      "  [1 3 8]]\n",
      "\n",
      " [[5 9 8]\n",
      "  [9 3 9]\n",
      "  [3 8 4]]\n",
      "\n",
      " [[9 8 8]\n",
      "  [3 9 0]\n",
      "  [8 4 6]]\n",
      "\n",
      " [[8 8 0]\n",
      "  [9 0 4]\n",
      "  [4 6 6]]\n",
      "\n",
      " [[8 0 0]\n",
      "  [0 4 1]\n",
      "  [6 6 9]]\n",
      "\n",
      " [[2 8 6]\n",
      "  [9 8 0]\n",
      "  [0 9 1]]\n",
      "\n",
      " [[8 6 7]\n",
      "  [8 0 1]\n",
      "  [9 1 7]]\n",
      "\n",
      " [[6 7 9]\n",
      "  [0 1 3]\n",
      "  [1 7 5]]\n",
      "\n",
      " [[7 9 3]\n",
      "  [1 3 8]\n",
      "  [7 5 0]]\n",
      "\n",
      " [[9 3 9]\n",
      "  [3 8 4]\n",
      "  [5 0 2]]\n",
      "\n",
      " [[3 9 0]\n",
      "  [8 4 6]\n",
      "  [0 2 7]]\n",
      "\n",
      " [[9 0 4]\n",
      "  [4 6 6]\n",
      "  [2 7 4]]\n",
      "\n",
      " [[0 4 1]\n",
      "  [6 6 9]\n",
      "  [7 4 2]]]\n"
     ]
    }
   ],
   "source": [
    "matrix = np.random.randint(0, 10, (10, 10))\n",
    "\n",
    "# Function to extract all contiguous 3x3 blocks from a 10x10 matrix\n",
    "def extract_blocks(matrix, block_size=3):\n",
    "    rows, cols = matrix.shape\n",
    "    blocks = np.lib.stride_tricks.sliding_window_view(matrix, (block_size, block_size))\n",
    "    return blocks.reshape(-1, block_size, block_size)\n",
    "\n",
    "# Extract the 3x3 blocks\n",
    "blocks = extract_blocks(matrix)\n",
    "\n",
    "print(\"Original 10x10 matrix:\\n\", matrix)\n",
    "print(\"Extracted 3x3 blocks:\\n\", blocks)"
   ]
  },
  {
   "cell_type": "markdown",
   "id": "52836346",
   "metadata": {},
   "source": [
    "#### 85. Create a 2D array subclass such that Z[i,j] == Z[j,i] (★★★)"
   ]
  },
  {
   "cell_type": "code",
   "execution_count": 263,
   "id": "4df70318",
   "metadata": {
    "ExecuteTime": {
     "end_time": "2024-07-01T10:03:56.284727500Z",
     "start_time": "2024-07-01T10:03:56.175128800Z"
    }
   },
   "outputs": [
    {
     "name": "stdout",
     "output_type": "stream",
     "text": [
      "Symmetric Array:\n",
      " [[ 0.  0.  0.  0.  0.]\n",
      " [ 0.  0. 10.  0.  0.]\n",
      " [ 0. 10.  0.  0.  0.]\n",
      " [ 0.  0.  0.  0. 20.]\n",
      " [ 0.  0.  0. 20.  0.]]\n"
     ]
    }
   ],
   "source": [
    "import numpy as np\n",
    "\n",
    "class SymmetricArray(np.ndarray):\n",
    "    def __new__(cls, shape, dtype=float, *args, **kwargs):\n",
    "        # Create a zero-filled array and view it as an instance of the subclass\n",
    "        obj = np.zeros(shape, dtype=dtype).view(cls)\n",
    "        return obj\n",
    "\n",
    "    def __setitem__(self, index, value):\n",
    "        i, j = index\n",
    "        super(SymmetricArray, self).__setitem__((i, j), value)\n",
    "        super(SymmetricArray, self).__setitem__((j, i), value)\n",
    "\n",
    "# Create a symmetric 2D array\n",
    "shape = (5, 5)\n",
    "Z = SymmetricArray(shape, dtype=float)\n",
    "\n",
    "# Set values in the array\n",
    "Z[1, 2] = 10\n",
    "Z[3, 4] = 20\n",
    "\n",
    "print(\"Symmetric Array:\\n\", Z)\n"
   ]
  },
  {
   "cell_type": "markdown",
   "id": "78c43ee5",
   "metadata": {},
   "source": [
    "#### 86. Consider a set of p matrices with shape (n,n) and a set of p vectors with shape (n,1). How to compute the sum of of the p matrix products at once? (result has shape (n,1)) (★★★)"
   ]
  },
  {
   "cell_type": "code",
   "execution_count": null,
   "id": "32fd2c3b",
   "metadata": {},
   "outputs": [],
   "source": [
    "# stack the vectors, matmul and sum on the first axis."
   ]
  },
  {
   "cell_type": "markdown",
   "id": "158f9945",
   "metadata": {},
   "source": [
    "#### 87. Consider a 16x16 array, how to get the block-sum (block size is 4x4)? (★★★)"
   ]
  },
  {
   "cell_type": "code",
   "execution_count": 163,
   "id": "5a9b808f",
   "metadata": {
    "ExecuteTime": {
     "end_time": "2024-06-30T11:49:41.528469Z",
     "start_time": "2024-06-30T11:49:41.491220200Z"
    }
   },
   "outputs": [
    {
     "name": "stdout",
     "output_type": "stream",
     "text": [
      "[[ 0  1  2  3  4  5  6  7  8  9 10 11 12 13 14 15]\n",
      " [ 0  1  2  3  4  5  6  7  8  9 10 11 12 13 14 15]\n",
      " [ 0  1  2  3  4  5  6  7  8  9 10 11 12 13 14 15]\n",
      " [ 0  1  2  3  4  5  6  7  8  9 10 11 12 13 14 15]\n",
      " [ 0  1  2  3  4  5  6  7  8  9 10 11 12 13 14 15]\n",
      " [ 0  1  2  3  4  5  6  7  8  9 10 11 12 13 14 15]\n",
      " [ 0  1  2  3  4  5  6  7  8  9 10 11 12 13 14 15]\n",
      " [ 0  1  2  3  4  5  6  7  8  9 10 11 12 13 14 15]\n",
      " [ 0  1  2  3  4  5  6  7  8  9 10 11 12 13 14 15]\n",
      " [ 0  1  2  3  4  5  6  7  8  9 10 11 12 13 14 15]\n",
      " [ 0  1  2  3  4  5  6  7  8  9 10 11 12 13 14 15]\n",
      " [ 0  1  2  3  4  5  6  7  8  9 10 11 12 13 14 15]\n",
      " [ 0  1  2  3  4  5  6  7  8  9 10 11 12 13 14 15]\n",
      " [ 0  1  2  3  4  5  6  7  8  9 10 11 12 13 14 15]\n",
      " [ 0  1  2  3  4  5  6  7  8  9 10 11 12 13 14 15]\n",
      " [ 0  1  2  3  4  5  6  7  8  9 10 11 12 13 14 15]]\n",
      "[[ 24  88 152 216]\n",
      " [ 24  88 152 216]\n",
      " [ 24  88 152 216]\n",
      " [ 24  88 152 216]]\n",
      "[[24, 24, 24, 24], [88, 88, 88, 88], [152, 152, 152, 152], [216, 216, 216, 216]]\n"
     ]
    }
   ],
   "source": [
    "x = np.tile(np.arange(0,16),(16,1))\n",
    "print(x)\n",
    "x = x.reshape((4,4,4,4))\n",
    "print(x.sum((0,3)))\n",
    "\n",
    "x = np.tile(np.arange(0,16),(16,1))\n",
    "print([[sum(x[i:i+4, j:j+4]) for i in range(0,15,4)] for j in range(0,15,4)])\n"
   ]
  },
  {
   "cell_type": "markdown",
   "id": "2e0ad860",
   "metadata": {},
   "source": [
    "#### 88. How to implement the Game of Life using numpy arrays? (★★★)"
   ]
  },
  {
   "cell_type": "code",
   "execution_count": 164,
   "id": "574acff5",
   "metadata": {
    "ExecuteTime": {
     "end_time": "2024-06-30T11:52:52.042401200Z",
     "start_time": "2024-06-30T11:52:51.995734Z"
    }
   },
   "outputs": [],
   "source": [
    "turns = 100\n",
    "board = np.zeros((16,16))\n",
    "\n",
    "for turn in range(turns):\n",
    "    num_neighbors = board[0:-2, 0:-2] + board[0:-2, 1:-1] + board[0:-2, 2:] + board[1:-1, 0:-2] + board[1:-1, 2:] + board[2:, 0:-2] + board[2:, 1:-1] + board[2:, 2:]"
   ]
  },
  {
   "cell_type": "code",
   "execution_count": 174,
   "outputs": [],
   "source": [
    "from IPython.display import clear_output"
   ],
   "metadata": {
    "collapsed": false,
    "ExecuteTime": {
     "end_time": "2024-06-30T12:19:42.865327600Z",
     "start_time": "2024-06-30T12:19:42.809406200Z"
    }
   },
   "id": "14d5e57ead299580"
  },
  {
   "cell_type": "code",
   "execution_count": 191,
   "outputs": [
    {
     "name": "stdout",
     "output_type": "stream",
     "text": [
      "[[0. 0. 0. 0. 0. 0. 0. 0. 0. 0. 0. 0.]\n",
      " [0. 1. 1. 0. 0. 0. 0. 0. 0. 0. 0. 0.]\n",
      " [0. 1. 0. 1. 0. 0. 0. 0. 0. 0. 0. 0.]\n",
      " [0. 1. 0. 0. 0. 0. 0. 0. 0. 0. 0. 0.]\n",
      " [0. 0. 0. 0. 0. 0. 0. 0. 0. 0. 0. 0.]\n",
      " [0. 0. 0. 0. 0. 0. 0. 0. 0. 0. 0. 0.]\n",
      " [0. 0. 0. 0. 0. 0. 0. 0. 0. 0. 0. 0.]\n",
      " [0. 0. 0. 0. 0. 0. 0. 0. 0. 0. 0. 0.]\n",
      " [0. 0. 0. 0. 0. 0. 0. 0. 0. 0. 0. 0.]\n",
      " [0. 0. 0. 0. 0. 0. 0. 0. 0. 0. 0. 0.]\n",
      " [0. 0. 0. 0. 0. 0. 0. 0. 0. 0. 0. 0.]\n",
      " [0. 0. 0. 0. 0. 0. 0. 0. 0. 0. 0. 0.]]\n"
     ]
    },
    {
     "ename": "KeyboardInterrupt",
     "evalue": "",
     "output_type": "error",
     "traceback": [
      "\u001B[1;31m---------------------------------------------------------------------------\u001B[0m",
      "\u001B[1;31mKeyboardInterrupt\u001B[0m                         Traceback (most recent call last)",
      "Cell \u001B[1;32mIn[191], line 7\u001B[0m\n\u001B[0;32m      5\u001B[0m \u001B[38;5;28mprint\u001B[39m(board)\n\u001B[0;32m      6\u001B[0m \u001B[38;5;28;01mfor\u001B[39;00m i \u001B[38;5;129;01min\u001B[39;00m \u001B[38;5;28mrange\u001B[39m(\u001B[38;5;241m100\u001B[39m):\n\u001B[1;32m----> 7\u001B[0m     time\u001B[38;5;241m.\u001B[39msleep(\u001B[38;5;241m2\u001B[39m)\n\u001B[0;32m      8\u001B[0m     clear_output(wait\u001B[38;5;241m=\u001B[39m\u001B[38;5;28;01mTrue\u001B[39;00m)\n\u001B[0;32m      9\u001B[0m     counts \u001B[38;5;241m=\u001B[39m np\u001B[38;5;241m.\u001B[39mzeros(board\u001B[38;5;241m.\u001B[39mshape)\n",
      "\u001B[1;31mKeyboardInterrupt\u001B[0m: "
     ]
    }
   ],
   "source": [
    "board = np.zeros((12,12))\n",
    "board[5:8,5] = 1\n",
    "board[5,6] = 1\n",
    "board[6,7] = 1\n",
    "print(board)\n",
    "for i in range(100):\n",
    "    time.sleep(2)\n",
    "    clear_output(wait=True)\n",
    "    counts = np.zeros(board.shape)\n",
    "    counts[1:-1,1:-1] += (board[0:-2,0:-2] + board[0:-2,1:-1] + board[0:-2,2:] + board[1:-1,0:-2] + board[1:-1,2:] + board[2:,0:-2] + board[2:,1:-1] + board[2:,2:])\n",
    "    board = np.where((board == 1) & ((counts < 2) | (counts > 3)), 0, board)\n",
    "    board = np.where((board == 0) & (counts == 3), 1, board)\n",
    "    print(board)"
   ],
   "metadata": {
    "collapsed": false
   },
   "id": "1571acf660e8737"
  },
  {
   "cell_type": "markdown",
   "id": "69a892fa",
   "metadata": {},
   "source": [
    "#### 89. How to get the n largest values of an array (★★★)"
   ]
  },
  {
   "cell_type": "code",
   "execution_count": 194,
   "id": "21b2bd48",
   "metadata": {
    "ExecuteTime": {
     "end_time": "2024-06-30T12:55:16.127668700Z",
     "start_time": "2024-06-30T12:55:16.064722300Z"
    }
   },
   "outputs": [
    {
     "name": "stdout",
     "output_type": "stream",
     "text": [
      "Perform an indirect partition along the given axis using the\n",
      "algorithm specified by the `kind` keyword. It returns an array of\n",
      "indices of the same shape as `a` that index data along the given\n",
      "axis in partitioned order.\n",
      "\n",
      ".. versionadded:: 1.8.0\n",
      "\n",
      "Parameters\n",
      "----------\n",
      "a : array_like\n",
      "    Array to sort.\n",
      "kth : int or sequence of ints\n",
      "    Element index to partition by. The k-th element will be in its\n",
      "    final sorted position and all smaller elements will be moved\n",
      "    before it and all larger elements behind it. The order of all\n",
      "    elements in the partitions is undefined. If provided with a\n",
      "    sequence of k-th it will partition all of them into their sorted\n",
      "    position at once.\n",
      "\n",
      "    .. deprecated:: 1.22.0\n",
      "        Passing booleans as index is deprecated.\n",
      "axis : int or None, optional\n",
      "    Axis along which to sort. The default is -1 (the last axis). If\n",
      "    None, the flattened array is used.\n",
      "kind : {'introselect'}, optional\n",
      "    Selection algorithm. Default is 'introselect'\n",
      "order : str or list of str, optional\n",
      "    When `a` is an array with fields defined, this argument\n",
      "    specifies which fields to compare first, second, etc. A single\n",
      "    field can be specified as a string, and not all fields need be\n",
      "    specified, but unspecified fields will still be used, in the\n",
      "    order in which they come up in the dtype, to break ties.\n",
      "\n",
      "Returns\n",
      "-------\n",
      "index_array : ndarray, int\n",
      "    Array of indices that partition `a` along the specified axis.\n",
      "    If `a` is one-dimensional, ``a[index_array]`` yields a partitioned `a`.\n",
      "    More generally, ``np.take_along_axis(a, index_array, axis=axis)``\n",
      "    always yields the partitioned `a`, irrespective of dimensionality.\n",
      "\n",
      "See Also\n",
      "--------\n",
      "partition : Describes partition algorithms used.\n",
      "ndarray.partition : Inplace partition.\n",
      "argsort : Full indirect sort.\n",
      "take_along_axis : Apply ``index_array`` from argpartition\n",
      "                  to an array as if by calling partition.\n",
      "\n",
      "Notes\n",
      "-----\n",
      "See `partition` for notes on the different selection algorithms.\n",
      "\n",
      "Examples\n",
      "--------\n",
      "One dimensional array:\n",
      "\n",
      ">>> x = np.array([3, 4, 2, 1])\n",
      ">>> x[np.argpartition(x, 3)]\n",
      "array([2, 1, 3, 4])\n",
      ">>> x[np.argpartition(x, (1, 3))]\n",
      "array([1, 2, 3, 4])\n",
      "\n",
      ">>> x = [3, 4, 2, 1]\n",
      ">>> np.array(x)[np.argpartition(x, 3)]\n",
      "array([2, 1, 3, 4])\n",
      "\n",
      "Multi-dimensional array:\n",
      "\n",
      ">>> x = np.array([[3, 4, 2], [1, 3, 1]])\n",
      ">>> index_array = np.argpartition(x, kth=1, axis=-1)\n",
      ">>> np.take_along_axis(x, index_array, axis=-1)  # same as np.partition(x, kth=1)\n",
      "array([[2, 3, 4],\n",
      "       [1, 1, 3]])\n"
     ]
    }
   ],
   "source": [
    "np.info(np.argpartition)"
   ]
  },
  {
   "cell_type": "markdown",
   "id": "b55ccacc",
   "metadata": {},
   "source": [
    "#### 90. Given an arbitrary number of vectors, build the cartesian product (every combinations of every item) (★★★)"
   ]
  },
  {
   "cell_type": "code",
   "execution_count": null,
   "id": "4b645da4",
   "metadata": {},
   "outputs": [],
   "source": [
    "def cartesian_product(*arrays):\n",
    "    la = len(arrays)\n",
    "    dtype = np.result_type(*arrays)\n",
    "    arr = np.empty([len(a) for a in arrays] + [la], dtype=dtype)\n",
    "    for i, a in enumerate(np.ix_(*arrays)):\n",
    "        arr[...,i] = a\n",
    "    return arr.reshape(-1, la)"
   ]
  },
  {
   "cell_type": "markdown",
   "id": "89187a23",
   "metadata": {},
   "source": [
    "#### 91. How to create a record array from a regular array? (★★★)"
   ]
  },
  {
   "cell_type": "code",
   "execution_count": 195,
   "id": "da94c71a",
   "metadata": {
    "ExecuteTime": {
     "end_time": "2024-06-30T12:58:18.284388700Z",
     "start_time": "2024-06-30T12:58:18.239385600Z"
    }
   },
   "outputs": [],
   "source": [
    "regular_array = np.array([\n",
    "    [1, 2.0, 'A'],\n",
    "    [2, 3.5, 'B'],\n",
    "    [3, 4.8, 'C']\n",
    "])\n",
    "\n",
    "dtype = [('field1', 'i4'), ('field2', 'f4'), ('field3', 'U1')]\n",
    "\n",
    "record_array = np.array([\n",
    "    (1, 2.0, 'A'),\n",
    "    (2, 3.5, 'B'),\n",
    "    (3, 4.8, 'C')\n",
    "], dtype=dtype)"
   ]
  },
  {
   "cell_type": "markdown",
   "id": "aa70d4ca",
   "metadata": {},
   "source": [
    "#### 92. Consider a large vector Z, compute Z to the power of 3 using 3 different methods (★★★)"
   ]
  },
  {
   "cell_type": "code",
   "execution_count": 199,
   "id": "7cff1bf5",
   "metadata": {
    "ExecuteTime": {
     "end_time": "2024-06-30T13:01:18.773718800Z",
     "start_time": "2024-06-30T13:01:18.722514100Z"
    }
   },
   "outputs": [
    {
     "data": {
      "text/plain": "array([  0,   1,   8,  27,  64, 125, 216, 343, 512, 729])"
     },
     "execution_count": 199,
     "metadata": {},
     "output_type": "execute_result"
    }
   ],
   "source": [
    "z = np.arange(10)\n",
    "\n",
    "z**3\n",
    "np.power(z, 3)\n",
    "np.einsum('i,i,i->i', z, z, z)\n",
    "np.multiply(np.multiply(z, z), z)"
   ]
  },
  {
   "cell_type": "markdown",
   "id": "5f79dd00",
   "metadata": {},
   "source": [
    "#### 93. Consider two arrays A and B of shape (8,3) and (2,2). How to find rows of A that contain elements of each row of B regardless of the order of the elements in B? (★★★)"
   ]
  },
  {
   "cell_type": "code",
   "execution_count": 216,
   "id": "20c105b2",
   "metadata": {
    "ExecuteTime": {
     "end_time": "2024-06-30T13:18:25.073932200Z",
     "start_time": "2024-06-30T13:18:25.045286300Z"
    }
   },
   "outputs": [
    {
     "name": "stdout",
     "output_type": "stream",
     "text": [
      "[[ True False  True]\n",
      " [ True  True False]\n",
      " [False False False]\n",
      " [False False False]\n",
      " [ True False False]\n",
      " [False  True  True]\n",
      " [ True False False]\n",
      " [False False  True]]\n",
      "[[ True False  True]\n",
      " [False  True False]\n",
      " [False  True  True]\n",
      " [False False False]\n",
      " [ True False  True]\n",
      " [ True  True False]\n",
      " [False False  True]\n",
      " [False False False]]\n",
      "[ True  True False False  True  True  True False]\n",
      "[[0 3 0]\n",
      " [2 0 3]\n",
      " [4 1 1]\n",
      " [3 3 3]\n",
      " [0 3 1]\n",
      " [1 0 2]\n",
      " [2 3 1]\n",
      " [3 4 2]]\n",
      "[[0 2]\n",
      " [1 0]]\n"
     ]
    }
   ],
   "source": [
    "A = np.random.randint(0,5,(8,3))\n",
    "B = np.random.randint(0,5,(2,2))\n",
    "\n",
    "print(np.isin(A[:,], B[0,:]))\n",
    "print(np.isin(A[:,], B[1,:]))\n",
    "print(np.isin(A[:,], B[0,:]).any(1)&np.isin(A[:,], B[1,:]).any(1))\n",
    "print(A)\n",
    "print(B)"
   ]
  },
  {
   "cell_type": "markdown",
   "id": "a80570cd",
   "metadata": {},
   "source": [
    "#### 94. Considering a 10x3 matrix, extract rows with unequal values (e.g. [2,2,3]) (★★★)"
   ]
  },
  {
   "cell_type": "code",
   "execution_count": 245,
   "id": "84db8de1",
   "metadata": {
    "ExecuteTime": {
     "end_time": "2024-06-30T14:02:20.626975500Z",
     "start_time": "2024-06-30T14:02:20.588291500Z"
    }
   },
   "outputs": [
    {
     "name": "stdout",
     "output_type": "stream",
     "text": [
      "[[4 0 2]\n",
      " [4 3 4]\n",
      " [4 4 0]\n",
      " [2 4 0]\n",
      " [0 4 3]\n",
      " [2 4 0]\n",
      " [0 1 2]\n",
      " [3 2 3]\n",
      " [0 3 3]\n",
      " [4 2 4]]\n",
      "[4 4 4 2 0 2 0 3 0 4]\n",
      "[False False False  True False  True False False False False]\n"
     ]
    },
    {
     "data": {
      "text/plain": "array([[2, 4, 0],\n       [2, 4, 0]])"
     },
     "execution_count": 245,
     "metadata": {},
     "output_type": "execute_result"
    }
   ],
   "source": [
    "x = np.random.randint(0,5, (10,3))\n",
    "print(x)\n",
    "print(x[:,0])\n",
    "print(x[:,0]==x.mean(1))\n",
    "y_indices = x[:,0]==x.mean(1)\n",
    "\n",
    "x[y_indices]"
   ]
  },
  {
   "cell_type": "markdown",
   "id": "ba154f43",
   "metadata": {},
   "source": [
    "#### 95. Convert a vector of ints into a matrix binary representation (★★★)"
   ]
  },
  {
   "cell_type": "code",
   "execution_count": 246,
   "id": "cfa96e1b",
   "metadata": {
    "ExecuteTime": {
     "end_time": "2024-06-30T14:03:14.668487900Z",
     "start_time": "2024-06-30T14:03:14.630863900Z"
    }
   },
   "outputs": [
    {
     "name": "stdout",
     "output_type": "stream",
     "text": [
      "[0 1 2 3 4 5 6 7 8 9]\n",
      "[[0 0 0 0]\n",
      " [1 0 0 0]\n",
      " [0 1 0 0]\n",
      " [1 1 0 0]\n",
      " [0 0 1 0]\n",
      " [1 0 1 0]\n",
      " [0 1 1 0]\n",
      " [1 1 1 0]\n",
      " [0 0 0 1]\n",
      " [1 0 0 1]]\n"
     ]
    }
   ],
   "source": [
    "vector = np.arange(10)\n",
    "max_bits = np.ceil(np.log2(vector.max() + 1)).astype(int)\n",
    "binary_matrix = ((vector[:, None] & (1 << np.arange(max_bits))) > 0).astype(int)\n",
    "print(vector)\n",
    "print(binary_matrix)\n"
   ]
  },
  {
   "cell_type": "markdown",
   "id": "420e2343",
   "metadata": {},
   "source": [
    "#### 96. Given a two dimensional array, how to extract unique rows? (★★★)"
   ]
  },
  {
   "cell_type": "code",
   "execution_count": 248,
   "id": "4680dfd0",
   "metadata": {
    "ExecuteTime": {
     "end_time": "2024-06-30T14:06:38.224501800Z",
     "start_time": "2024-06-30T14:06:38.183301700Z"
    }
   },
   "outputs": [
    {
     "name": "stdout",
     "output_type": "stream",
     "text": [
      "[[1 1 1]\n",
      " [0 0 0]\n",
      " [0 1 0]\n",
      " [0 1 0]\n",
      " [0 1 1]\n",
      " [0 0 1]\n",
      " [0 1 0]\n",
      " [0 0 1]]\n",
      "[[0 0 0]\n",
      " [0 0 1]\n",
      " [0 1 0]\n",
      " [0 1 1]\n",
      " [1 1 1]]\n"
     ]
    }
   ],
   "source": [
    "x = np.random.randint(0, 2, (8, 3))\n",
    "print(x)\n",
    "y = np.unique(x, axis=0)\n",
    "print(y)"
   ]
  },
  {
   "cell_type": "markdown",
   "source": [],
   "metadata": {
    "collapsed": false
   },
   "id": "5eab29f21a002246"
  },
  {
   "cell_type": "markdown",
   "id": "89fef2f3",
   "metadata": {},
   "source": [
    "#### 97. Considering 2 vectors A & B, write the einsum equivalent of inner, outer, sum, and mul function (★★★)"
   ]
  },
  {
   "cell_type": "code",
   "execution_count": 249,
   "id": "bb9c14b2",
   "metadata": {
    "ExecuteTime": {
     "end_time": "2024-06-30T14:16:56.873036600Z",
     "start_time": "2024-06-30T14:16:56.814021600Z"
    }
   },
   "outputs": [
    {
     "name": "stdout",
     "output_type": "stream",
     "text": [
      "Inner Product: 32\n",
      "Outer Product:\n",
      " [[ 4  5  6]\n",
      " [ 8 10 12]\n",
      " [12 15 18]]\n",
      "Element-wise Multiplication: [ 4 10 18]\n",
      "Sum of Elements in A: 6\n"
     ]
    }
   ],
   "source": [
    "A = np.array([1, 2, 3])\n",
    "B = np.array([4, 5, 6])\n",
    "\n",
    "\n",
    "inner_product = np.einsum('i,i', A, B)\n",
    "print(\"Inner Product:\", inner_product)\n",
    "outer_product = np.einsum('i,j', A, B)\n",
    "print(\"Outer Product:\\n\", outer_product)\n",
    "elementwise_multiplication = np.einsum('i,i->i', A, B)\n",
    "print(\"Element-wise Multiplication:\", elementwise_multiplication)\n",
    "sum_of_elements = np.einsum('i->', A)\n",
    "print(\"Sum of Elements in A:\", sum_of_elements)         "
   ]
  },
  {
   "cell_type": "markdown",
   "id": "7ad5cc5f",
   "metadata": {},
   "source": [
    "#### 98. Considering a path described by two vectors (X,Y), how to sample it using equidistant samples (★★★)?"
   ]
  },
  {
   "cell_type": "code",
   "execution_count": 250,
   "id": "0899d1d5",
   "metadata": {
    "ExecuteTime": {
     "end_time": "2024-07-01T09:09:29.957307500Z",
     "start_time": "2024-07-01T09:09:29.873184200Z"
    }
   },
   "outputs": [
    {
     "name": "stdout",
     "output_type": "stream",
     "text": [
      "Object `?` not found.\n"
     ]
    }
   ],
   "source": [
    "???"
   ]
  },
  {
   "cell_type": "markdown",
   "id": "2b69272e",
   "metadata": {},
   "source": [
    "#### 99. Given an integer n and a 2D array X, select from X the rows which can be interpreted as draws from a multinomial distribution with n degrees, i.e., the rows which only contain integers and which sum to n. (★★★)"
   ]
  },
  {
   "cell_type": "code",
   "execution_count": 252,
   "id": "55c8b034",
   "metadata": {
    "ExecuteTime": {
     "end_time": "2024-07-01T09:48:28.829861Z",
     "start_time": "2024-07-01T09:48:28.701831800Z"
    }
   },
   "outputs": [
    {
     "name": "stdout",
     "output_type": "stream",
     "text": [
      "[[0 3 0]\n",
      " [2 0 4]\n",
      " [3 3 2]\n",
      " [3 2 0]\n",
      " [0 1 2]\n",
      " [3 1 3]\n",
      " [3 0 0]\n",
      " [2 1 3]\n",
      " [3 1 3]\n",
      " [0 1 4]]\n",
      "[[2 0 4]\n",
      " [2 1 3]]\n"
     ]
    }
   ],
   "source": [
    "X = np.random.randint(0, 5, (10, 3))\n",
    "n = 6\n",
    "M = np.logical_and.reduce(np.mod(X, 1) == 0, axis=-1)\n",
    "M &= (X.sum(axis=-1) == n)\n",
    "print(X)\n",
    "print(X[M])\n"
   ]
  },
  {
   "cell_type": "markdown",
   "id": "59ab5516",
   "metadata": {},
   "source": [
    "#### 100. Compute bootstrapped 95% confidence intervals for the mean of a 1D array X (i.e., resample the elements of an array with replacement N times, compute the mean of each sample, and then compute percentiles over the means). (★★★)"
   ]
  },
  {
   "cell_type": "code",
   "execution_count": 253,
   "id": "450877d8",
   "metadata": {
    "ExecuteTime": {
     "end_time": "2024-07-01T09:54:30.848622500Z",
     "start_time": "2024-07-01T09:54:30.718561800Z"
    }
   },
   "outputs": [
    {
     "name": "stdout",
     "output_type": "stream",
     "text": [
      "95% confidence interval for the mean: [-0.17734934  0.20430261]\n"
     ]
    }
   ],
   "source": [
    "X = np.random.randn(100)  \n",
    "\n",
    "N = 1000\n",
    "\n",
    "def bootstrap_confidence_interval(data, num_samples, ci=95):\n",
    "    means = np.empty(num_samples)\n",
    "    n = len(data)\n",
    "    \n",
    "    for i in range(num_samples):\n",
    "        sample = np.random.choice(data, size=n, replace=True)\n",
    "        means[i] = np.mean(sample)\n",
    "    \n",
    "    lower_percentile = (100 - ci) / 2\n",
    "    upper_percentile = 100 - lower_percentile\n",
    "    confidence_interval = np.percentile(means, [lower_percentile, upper_percentile])\n",
    "    \n",
    "    return confidence_interval\n",
    "\n",
    "ci_95 = bootstrap_confidence_interval(X, N)\n",
    "print(\"95% confidence interval for the mean:\", ci_95)"
   ]
  }
 ],
 "metadata": {
  "kernelspec": {
   "name": "python3",
   "language": "python",
   "display_name": "Python 3 (ipykernel)"
  }
 },
 "nbformat": 4,
 "nbformat_minor": 5
}
