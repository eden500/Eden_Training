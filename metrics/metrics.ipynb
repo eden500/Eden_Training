{
 "cells": [
  {
   "cell_type": "code",
   "execution_count": 1,
   "id": "initial_id",
   "metadata": {
    "collapsed": true,
    "ExecuteTime": {
     "end_time": "2024-08-07T11:06:14.815459300Z",
     "start_time": "2024-08-07T11:06:07.912093Z"
    }
   },
   "outputs": [],
   "source": [
    "import pandas as pd\n",
    "from sklearn.metrics import confusion_matrix"
   ]
  },
  {
   "cell_type": "code",
   "execution_count": 2,
   "outputs": [
    {
     "data": {
      "text/plain": "   diameter  cancer\n0  6.309685   False\n1  4.580894   False\n2  6.310071   False\n3  7.495139   False\n4  2.216181   False",
      "text/html": "<div>\n<style scoped>\n    .dataframe tbody tr th:only-of-type {\n        vertical-align: middle;\n    }\n\n    .dataframe tbody tr th {\n        vertical-align: top;\n    }\n\n    .dataframe thead th {\n        text-align: right;\n    }\n</style>\n<table border=\"1\" class=\"dataframe\">\n  <thead>\n    <tr style=\"text-align: right;\">\n      <th></th>\n      <th>diameter</th>\n      <th>cancer</th>\n    </tr>\n  </thead>\n  <tbody>\n    <tr>\n      <th>0</th>\n      <td>6.309685</td>\n      <td>False</td>\n    </tr>\n    <tr>\n      <th>1</th>\n      <td>4.580894</td>\n      <td>False</td>\n    </tr>\n    <tr>\n      <th>2</th>\n      <td>6.310071</td>\n      <td>False</td>\n    </tr>\n    <tr>\n      <th>3</th>\n      <td>7.495139</td>\n      <td>False</td>\n    </tr>\n    <tr>\n      <th>4</th>\n      <td>2.216181</td>\n      <td>False</td>\n    </tr>\n  </tbody>\n</table>\n</div>"
     },
     "execution_count": 2,
     "metadata": {},
     "output_type": "execute_result"
    }
   ],
   "source": [
    "file_path = 'CANCER_TABLE.csv'\n",
    "data = pd.read_csv(file_path, header=0, names=['diameter', 'cancer'])\n",
    "data.head()"
   ],
   "metadata": {
    "collapsed": false,
    "ExecuteTime": {
     "end_time": "2024-08-07T11:06:14.862922100Z",
     "start_time": "2024-08-07T11:06:14.817466600Z"
    }
   },
   "id": "ac732ec37660f73c"
  },
  {
   "cell_type": "code",
   "execution_count": 3,
   "outputs": [],
   "source": [
    "data['prediction'] = data['diameter'] > 7"
   ],
   "metadata": {
    "collapsed": false,
    "ExecuteTime": {
     "end_time": "2024-08-07T11:06:14.865841200Z",
     "start_time": "2024-08-07T11:06:14.861761500Z"
    }
   },
   "id": "71fbe1e6d9f1615e"
  },
  {
   "cell_type": "code",
   "execution_count": 4,
   "outputs": [
    {
     "data": {
      "text/plain": "            Predicted no cancer  Predicted  has cancer\nno cancer                   689                    118\nhas cancer                    0                    193",
      "text/html": "<div>\n<style scoped>\n    .dataframe tbody tr th:only-of-type {\n        vertical-align: middle;\n    }\n\n    .dataframe tbody tr th {\n        vertical-align: top;\n    }\n\n    .dataframe thead th {\n        text-align: right;\n    }\n</style>\n<table border=\"1\" class=\"dataframe\">\n  <thead>\n    <tr style=\"text-align: right;\">\n      <th></th>\n      <th>Predicted no cancer</th>\n      <th>Predicted  has cancer</th>\n    </tr>\n  </thead>\n  <tbody>\n    <tr>\n      <th>no cancer</th>\n      <td>689</td>\n      <td>118</td>\n    </tr>\n    <tr>\n      <th>has cancer</th>\n      <td>0</td>\n      <td>193</td>\n    </tr>\n  </tbody>\n</table>\n</div>"
     },
     "execution_count": 4,
     "metadata": {},
     "output_type": "execute_result"
    }
   ],
   "source": [
    "# Compute the confusion matrix\n",
    "conf_matrix = confusion_matrix(data['cancer'], data['prediction'], labels = [0, 1])\n",
    "conf_matrix_df = pd.DataFrame(conf_matrix, index=['no cancer', 'has cancer'], columns=['Predicted no cancer', 'Predicted  has cancer'])\n",
    "conf_matrix_df"
   ],
   "metadata": {
    "collapsed": false,
    "ExecuteTime": {
     "end_time": "2024-08-07T11:06:14.878331400Z",
     "start_time": "2024-08-07T11:06:14.865841200Z"
    }
   },
   "id": "d74a7af6440c0b8"
  },
  {
   "cell_type": "code",
   "execution_count": 5,
   "outputs": [
    {
     "name": "stdout",
     "output_type": "stream",
     "text": [
      "TP: 193, TN: 689, FP: 118, FN: 0\n",
      "TP (True Positive): Number of correctly predicted sick subjects.\n",
      "TN (True Negative): Number of correctly predicted non-sick subjects.\n",
      "FP (False Positive): Number of subjects incorrectly predicted as sick.\n",
      "FN (False Negative): Number of subjects incorrectly predicted as non-sick.\n"
     ]
    }
   ],
   "source": [
    "TN, FP, FN, TP = conf_matrix.ravel()\n",
    "\n",
    "print(f\"TP: {TP}, TN: {TN}, FP: {FP}, FN: {FN}\")\n",
    "print(\"TP (True Positive): Number of correctly predicted sick subjects.\")\n",
    "print(\"TN (True Negative): Number of correctly predicted non-sick subjects.\")\n",
    "print(\"FP (False Positive): Number of subjects incorrectly predicted as sick.\")\n",
    "print(\"FN (False Negative): Number of subjects incorrectly predicted as non-sick.\")"
   ],
   "metadata": {
    "collapsed": false,
    "ExecuteTime": {
     "end_time": "2024-08-07T11:06:14.891591300Z",
     "start_time": "2024-08-07T11:06:14.882522300Z"
    }
   },
   "id": "32fc493b5a818e8c"
  },
  {
   "cell_type": "code",
   "execution_count": 6,
   "outputs": [
    {
     "name": "stdout",
     "output_type": "stream",
     "text": [
      "TPR (True Positive Rate): Proportion of actual sick subjects correctly identified by the model.\n",
      "FPR (False Positive Rate): Proportion of non-sick subjects incorrectly identified as sick by the model.\n"
     ]
    }
   ],
   "source": [
    "TPR = TP / (TP + FN)\n",
    "FPR = FP / (FP + TN)\n",
    "\n",
    "print(\"TPR (True Positive Rate): Proportion of actual sick subjects correctly identified by the model.\")\n",
    "print(\"FPR (False Positive Rate): Proportion of non-sick subjects incorrectly identified as sick by the model.\")"
   ],
   "metadata": {
    "collapsed": false,
    "ExecuteTime": {
     "end_time": "2024-08-07T11:06:14.894048100Z",
     "start_time": "2024-08-07T11:06:14.891591300Z"
    }
   },
   "id": "c5e714909833ccf0"
  },
  {
   "cell_type": "code",
   "execution_count": 7,
   "outputs": [
    {
     "name": "stdout",
     "output_type": "stream",
     "text": [
      "Recall: 1.0, Precision: 0.6205787781350482\n"
     ]
    }
   ],
   "source": [
    "recall = TP / (TP + FN)\n",
    "precision = TP / (TP + FP)\n",
    "\n",
    "print(f\"Recall: {recall}, Precision: {precision}\")"
   ],
   "metadata": {
    "collapsed": false,
    "ExecuteTime": {
     "end_time": "2024-08-07T11:06:14.930657600Z",
     "start_time": "2024-08-07T11:06:14.896492200Z"
    }
   },
   "id": "5dc2c46d5ff23b57"
  },
  {
   "cell_type": "code",
   "execution_count": 8,
   "outputs": [
    {
     "name": "stdout",
     "output_type": "stream",
     "text": [
      "F1 Score: 0.7658730158730159\n"
     ]
    }
   ],
   "source": [
    "F1 = 2 * (precision * recall) / (precision + recall)\n",
    "print(f\"F1 Score: {F1}\")"
   ],
   "metadata": {
    "collapsed": false,
    "ExecuteTime": {
     "end_time": "2024-08-07T11:06:14.958698400Z",
     "start_time": "2024-08-07T11:06:14.903708Z"
    }
   },
   "id": "f45075e07f263f45"
  },
  {
   "cell_type": "markdown",
   "source": [
    "# Marketing the New Ranking Model to the Customer"
   ],
   "metadata": {
    "collapsed": false
   },
   "id": "d1e6a84f2f6cd4ce"
  },
  {
   "cell_type": "markdown",
   "source": [
    "The ranking model allows doctors to prioritize patients based on their cancer risk. This precision enables timely intervention for those at the highest risk, potentially improving patient outcomes.\n",
    "Also, Patients can be informed about their specific risk levels, which can help in managing expectations and planning appropriate preventive measures. "
   ],
   "metadata": {
    "collapsed": false
   },
   "id": "adf0c3d670eb0084"
  },
  {
   "cell_type": "code",
   "execution_count": 9,
   "outputs": [],
   "source": [
    "import numpy as np\n",
    "import matplotlib.pyplot as plt"
   ],
   "metadata": {
    "collapsed": false,
    "ExecuteTime": {
     "end_time": "2024-08-07T11:06:15.918585800Z",
     "start_time": "2024-08-07T11:06:14.911207300Z"
    }
   },
   "id": "e45bd7b0708129d1"
  },
  {
   "cell_type": "code",
   "execution_count": 10,
   "outputs": [
    {
     "data": {
      "text/plain": "     diameter  cancer\n428  9.994688    True\n181  9.987769    True\n600  9.964741    True",
      "text/html": "<div>\n<style scoped>\n    .dataframe tbody tr th:only-of-type {\n        vertical-align: middle;\n    }\n\n    .dataframe tbody tr th {\n        vertical-align: top;\n    }\n\n    .dataframe thead th {\n        text-align: right;\n    }\n</style>\n<table border=\"1\" class=\"dataframe\">\n  <thead>\n    <tr style=\"text-align: right;\">\n      <th></th>\n      <th>diameter</th>\n      <th>cancer</th>\n    </tr>\n  </thead>\n  <tbody>\n    <tr>\n      <th>428</th>\n      <td>9.994688</td>\n      <td>True</td>\n    </tr>\n    <tr>\n      <th>181</th>\n      <td>9.987769</td>\n      <td>True</td>\n    </tr>\n    <tr>\n      <th>600</th>\n      <td>9.964741</td>\n      <td>True</td>\n    </tr>\n  </tbody>\n</table>\n</div>"
     },
     "execution_count": 10,
     "metadata": {},
     "output_type": "execute_result"
    }
   ],
   "source": [
    "file_path = 'CANCER_TABLE.csv'\n",
    "data = pd.read_csv(file_path, header=0, names=['diameter', 'cancer'])\n",
    "data = data.sort_values(by='diameter', ascending=False)\n",
    "data.head(3)"
   ],
   "metadata": {
    "collapsed": false,
    "ExecuteTime": {
     "end_time": "2024-08-07T11:06:15.930994500Z",
     "start_time": "2024-08-07T11:06:15.921590800Z"
    }
   },
   "id": "f39787c621ba231"
  },
  {
   "cell_type": "code",
   "execution_count": 11,
   "outputs": [],
   "source": [
    "thresholds = data['diameter'].unique()\n",
    "tpr_list = []\n",
    "fpr_list = []\n",
    "\n",
    "for threshold in thresholds:\n",
    "    data['prediction'] = data['diameter'] >= threshold\n",
    "    TP = ((data['prediction'] == 1) & (data['cancer'] == 1)).sum()\n",
    "    TN = ((data['prediction'] == 0) & (data['cancer'] == 0)).sum()\n",
    "    FP = ((data['prediction'] == 1) & (data['cancer'] == 0)).sum()\n",
    "    FN = ((data['prediction'] == 0) & (data['cancer'] == 1)).sum()\n",
    "\n",
    "    TPR = TP / (TP + FN) if (TP + FN) != 0 else 0\n",
    "    FPR = FP / (FP + TN) if (FP + TN) != 0 else 0\n",
    "\n",
    "    tpr_list.append(TPR)\n",
    "    fpr_list.append(FPR)"
   ],
   "metadata": {
    "collapsed": false,
    "ExecuteTime": {
     "end_time": "2024-08-07T11:06:17.021781600Z",
     "start_time": "2024-08-07T11:06:15.936320300Z"
    }
   },
   "id": "6050b822ed855571"
  },
  {
   "cell_type": "code",
   "execution_count": 18,
   "outputs": [
    {
     "data": {
      "text/plain": "<Figure size 800x600 with 1 Axes>",
      "image/png": "[encoded data removed]"
     },
     "metadata": {},
     "output_type": "display_data"
    }
   ],
   "source": [
    "auc = np.trapz(tpr_list, fpr_list)\n",
    "\n",
    "# Plot ROC curve\n",
    "plt.figure(figsize=(8, 6))\n",
    "plt.scatter(fpr_list, tpr_list)\n",
    "# plt.plot([0, 1], [0, 1], 'k--')\n",
    "plt.xlabel('False Positive Rate (FPR)')\n",
    "plt.ylabel('True Positive Rate (TPR)')\n",
    "plt.title(f'ROC Curve (AUC = {auc:.2f})')\n",
    "plt.show()"
   ],
   "metadata": {
    "collapsed": false,
    "ExecuteTime": {
     "end_time": "2024-08-07T11:08:31.492124700Z",
     "start_time": "2024-08-07T11:08:31.349837800Z"
    }
   },
   "id": "36077f1f98b06c91"
  },
  {
   "cell_type": "markdown",
   "source": [
    "The model is exceptional in terms of AUC, AUC value of 1 means that the model is able to perfectly distinguish between positive class and negative class.\n",
    "\n",
    "The Business Meaning: A high AUC implies that the model is effective in prioritizing patients based on their cancer risk, leading to better patient outcomes and optimized resource use in healthcare settings.\n"
   ],
   "metadata": {
    "collapsed": false
   },
   "id": "7ab45b691078ead9"
  },
  {
   "cell_type": "markdown",
   "source": [
    "For classification model its best to choose a model that maximizes the difference (TPR - FPR).\n",
    "In our case it's the top left corner of the ROC curve.\n"
   ],
   "metadata": {
    "collapsed": false
   },
   "id": "44a9ddff4455853c"
  },
  {
   "cell_type": "code",
   "execution_count": 19,
   "outputs": [],
   "source": [
    "best_threshold_idx = np.argmax(np.array(tpr_list) - np.array(fpr_list))\n",
    "best_threshold = thresholds[best_threshold_idx]\n",
    "\n",
    "# New classier :\n",
    "data['prediction'] = data['diameter'] >= best_threshold\n"
   ],
   "metadata": {
    "collapsed": false,
    "ExecuteTime": {
     "end_time": "2024-08-07T11:17:09.882116200Z",
     "start_time": "2024-08-07T11:17:09.870258400Z"
    }
   },
   "id": "383e26a0fdf99bd3"
  },
  {
   "cell_type": "code",
   "execution_count": 21,
   "outputs": [
    {
     "name": "stdout",
     "output_type": "stream",
     "text": [
      "TP: 193, TN: 807, FP: 0, FN: 0\n",
      "Best Threshold: 8.02744867175\n",
      "Confusion Matrix:\n",
      "[[807   0]\n",
      " [  0 193]]\n",
      "\n",
      "Metrics:\n",
      "TP: 193, TN: 807, FP: 0, FN: 0\n",
      "Recall (Sensitivity/TPR): 1.00\n",
      "Accuracy: 1.00\n",
      "Precision: 1.00\n",
      "F1 Score: 1.00\n",
      "False Positive Rate (FPR): 0.00\n",
      "True Positive Rate (FPR): 1.00\n"
     ]
    }
   ],
   "source": [
    "conf_matrix = confusion_matrix(data['cancer'], data['prediction'])\n",
    "TN, FP, FN, TP = conf_matrix.ravel()\n",
    "\n",
    "print(f\"TP: {TP}, TN: {TN}, FP: {FP}, FN: {FN}\")\n",
    "\n",
    "TPR = TP / (TP + FN)\n",
    "FPR = FP / (FP + TN)\n",
    "\n",
    "accuracy = (TP + TN) / (TP + TN + FP + FN)\n",
    "precision = TP / (TP + FP) if (TP + FP) != 0 else 0\n",
    "recall = TP / (TP + FN) if (TP + FN) != 0 else 0\n",
    "f1 = 2 * (precision * recall) / (precision + recall) if (precision + recall) != 0 else 0\n",
    "\n",
    "# Print results\n",
    "print(f\"Best Threshold: {best_threshold}\")\n",
    "print(\"Confusion Matrix:\")\n",
    "print(conf_matrix)\n",
    "print(\"\\nMetrics:\")\n",
    "print(f\"TP: {TP}, TN: {TN}, FP: {FP}, FN: {FN}\")\n",
    "print(f\"Recall (Sensitivity/TPR): {recall:.2f}\")\n",
    "print(f\"Accuracy: {accuracy:.2f}\")\n",
    "print(f\"Precision: {precision:.2f}\")\n",
    "print(f\"F1 Score: {f1:.2f}\")\n",
    "print(f\"False Positive Rate (FPR): {FPR:.2f}\")\n",
    "print(f\"True Positive Rate (FPR): {TPR:.2f}\")"
   ],
   "metadata": {
    "collapsed": false,
    "ExecuteTime": {
     "end_time": "2024-08-07T11:19:00.138290400Z",
     "start_time": "2024-08-07T11:19:00.113025200Z"
    }
   },
   "id": "52d4d45afea2cef1"
  },
  {
   "cell_type": "markdown",
   "source": [
    "Ranker model is better since it classifies more samples correctly."
   ],
   "metadata": {
    "collapsed": false
   },
   "id": "36960d5df5419c5b"
  },
  {
   "cell_type": "code",
   "execution_count": 25,
   "outputs": [
    {
     "data": {
      "text/plain": "<Figure size 800x600 with 1 Axes>",
      "image/png": "[encoded data removed]"
     },
     "metadata": {},
     "output_type": "display_data"
    }
   ],
   "source": [
    "from sklearn.metrics import roc_curve, auc as calculate_auc\n",
    "\n",
    "# Calculate ROC curve and AUC using scikit-learn\n",
    "fpr, tpr, _ = roc_curve(data['cancer'], data['diameter'])\n",
    "roc_auc = calculate_auc(fpr, tpr)\n",
    "\n",
    "plt.figure(figsize=(8, 6))\n",
    "plt.plot(fpr, tpr, color='darkorange', lw=2, label=f'ROC curve (area = {roc_auc:.2f})')\n",
    "plt.xlabel('False Positive Rate')\n",
    "plt.ylabel('True Positive Rate')\n",
    "plt.show()\n",
    "\n"
   ],
   "metadata": {
    "collapsed": false,
    "ExecuteTime": {
     "end_time": "2024-08-07T11:21:55.182061200Z",
     "start_time": "2024-08-07T11:21:55.082099400Z"
    }
   },
   "id": "a4a88b631ca993d4"
  }
 ],
 "metadata": {
  "kernelspec": {
   "display_name": "Python 3",
   "language": "python",
   "name": "python3"
  },
  "language_info": {
   "codemirror_mode": {
    "name": "ipython",
    "version": 2
   },
   "file_extension": ".py",
   "mimetype": "text/x-python",
   "name": "python",
   "nbconvert_exporter": "python",
   "pygments_lexer": "ipython2",
   "version": "2.7.6"
  }
 },
 "nbformat": 4,
 "nbformat_minor": 5
}
